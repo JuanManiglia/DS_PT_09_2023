{
 "cells": [
  {
   "cell_type": "markdown",
   "metadata": {},
   "source": [
    "![imagen](./img/ejercicios.png)"
   ]
  },
  {
   "cell_type": "markdown",
   "metadata": {},
   "source": [
    "# Ejercicios Flujos de control"
   ]
  },
  {
   "cell_type": "markdown",
   "metadata": {},
   "source": [
    "## Ejercicio 1\n",
    "Declara una variable numérica que será una hora cualquiera del día. Implementa mediante sentencias `if/elif/else` la siguiente casuística:\n",
    "\n",
    "* Si es entre las 0 y las 8, print \"Durmiendo\"\n",
    "* Si es entre las 9 y las 18, print \"Trabajando\"\n",
    "* Si es entre las 19 y las 21, print \"Clase\"\n",
    "* Si es entre las 22 y las 24, print \"Descanso\"\n",
    "* En cualquier otro caso, print \"Transporte o error\""
   ]
  },
  {
   "cell_type": "code",
   "execution_count": 18,
   "metadata": {},
   "outputs": [
    {
     "name": "stdout",
     "output_type": "stream",
     "text": [
      "Descanso\n"
     ]
    }
   ],
   "source": [
    "hora = 23\n",
    "if hora >= 0 and hora <= 8:\n",
    "    print(\"Durmiendo\")\n",
    "elif hora < 18:\n",
    "    print('Trabajando')\n",
    "elif hora < 21:\n",
    "    print(\"Clase\")\n",
    "elif hora < 24:\n",
    "    print(\"Descanso\")\n",
    "else:\n",
    "    print(\"Transporte o error\")\n",
    "\n"
   ]
  },
  {
   "cell_type": "code",
   "execution_count": 25,
   "metadata": {},
   "outputs": [
    {
     "name": "stdout",
     "output_type": "stream",
     "text": [
      "Descanso\n"
     ]
    }
   ],
   "source": [
    "# corrección:\n",
    "hora2 = 8.5\n",
    "if hora >= 0 and hora <= 8:\n",
    "    print(\"Durmiendo\")\n",
    "\n",
    "elif hora >= 9 and hora <= 18:\n",
    "    print(\"Trabajando\")\n",
    "\n",
    "elif hora >= 19 and hora <= 21:\n",
    "    print(\"Clase\")\n",
    "\n",
    "elif hora >= 22 and hora <= 24:\n",
    "    print(\"Descanso\")\n",
    "\n",
    "else:\n",
    "     print(\"Transporte o error\")"
   ]
  },
  {
   "cell_type": "markdown",
   "metadata": {},
   "source": [
    "## Ejercicio 2\n",
    "En este ejercicio vamos a implementar un calculador de precios de casas muy sencillo. Tenemos las siguientes variables:\n",
    "\n",
    "> superficie\n",
    ">\n",
    "> distrito\n",
    "\n",
    "Implementa mediante sentencias `if/elif/else` la siguiente casuística:\n",
    "\n",
    "1. Si el distrito es \"Moncloa\" o \"Centro\", y además la superficie es superior a 100 metros cuadrados, el precio de la casa es de 1000\n",
    "2. Si el distrito es \"Salamanca\", y además la superficie de la casa es al menos de 150 metros, el precio de la casa es de 1500\n",
    "3. Si el distrito no es \"Retiro\" y la superficie está entre 60 y 80 metros, el precio es de 600\n",
    "4. En cualquier otro caso, el precio será de 0"
   ]
  },
  {
   "cell_type": "code",
   "execution_count": 23,
   "metadata": {},
   "outputs": [
    {
     "name": "stdout",
     "output_type": "stream",
     "text": [
      "El precio de la casa es 1000\n"
     ]
    }
   ],
   "source": [
    "superficie = 100\n",
    "distrito = \"Moncloa\"\n",
    "\n",
    "if distrito == \"Moncloa\" or \"Centro\" and superficie > 100:\n",
    "    print('El precio de la casa es 1000')\n",
    "\n",
    "elif distrito == 'Salamanca' and superficie >= 150:\n",
    "    print('El precio de la casa es de 1500')\n",
    "\n",
    "elif distrito != 'Retiro' and superficie :\n",
    "    print('El precio de la casa es de 600')\n",
    "\n",
    "else:\n",
    "    print('El precio de la casa es 0' )\n",
    "\n",
    "\n",
    "\n"
   ]
  },
  {
   "cell_type": "code",
   "execution_count": 31,
   "metadata": {},
   "outputs": [
    {
     "name": "stdout",
     "output_type": "stream",
     "text": [
      "El precio de la casa es 0\n"
     ]
    }
   ],
   "source": [
    "# corrección\n",
    "superficie = 100\n",
    "distrito = \"Moncloa\"\n",
    "\n",
    "if (distrito == \"Moncloa\" or distrito == \"Centro\") and superficie > 100:\n",
    "    precio = 1000\n",
    "\n",
    "elif distrito == 'Salamanca' and superficie >= 150:\n",
    "    precio = 1500\n",
    "\n",
    "elif distrito != 'Retiro' and superficie <= 80:\n",
    "    precio = 600\n",
    "\n",
    "else:\n",
    "    precio = 0"
   ]
  },
  {
   "cell_type": "markdown",
   "metadata": {},
   "source": [
    "## Ejercicio 3\n",
    "En este ejercicio vamos a realizar un programa muy parecido. Para este caso queremos que se cumplan las siguientes condiciones:\n",
    "\n",
    "1. Primero se compruebe si el distrito es \"Retiro\". Si es asi, que imprima \"Distrito Retiro\", y si no, \"Otro distrito\"\n",
    "2. Si el distrito es \"Retiro\", comprueba si si la superficie es mayor de 100 metros cuadrados. En tal caso, que imprima un precio de 1000, y si no, de 500.\n",
    "\n",
    "Hay que usar `ifs` anidados"
   ]
  },
  {
   "cell_type": "code",
   "execution_count": null,
   "metadata": {},
   "outputs": [],
   "source": [
    "distrito = 'Retiro'\n",
    "superficie = 110\n",
    "\n",
    "if distrito == 'Retiro':\n",
    "    print(\"Distrito Retiro\")\n",
    "    if superficie > 100:\n",
    "            print('precio de 1000')\n",
    "    else:\n",
    "            print('El precio es 500')\n",
    "else:\n",
    "    print(\"Otro distinto\")\n",
    "\n",
    "    "
   ]
  },
  {
   "cell_type": "markdown",
   "metadata": {},
   "source": [
    "## Ejercicio 4\n",
    "Escribe un programa que tenga dos variables: un numero, y una lista numérica. El programa debe recorrer la lista e imprimir por pantalla cada elemento de la lista multiplicado por el número"
   ]
  },
  {
   "cell_type": "code",
   "execution_count": 26,
   "metadata": {},
   "outputs": [
    {
     "name": "stdout",
     "output_type": "stream",
     "text": [
      "3\n",
      "6\n",
      "9\n",
      "12\n",
      "15\n",
      "18\n"
     ]
    }
   ],
   "source": [
    "numbers = [1,2,3,4,5,6]\n",
    "unique_number = 3\n",
    "\n",
    "for num in numbers:\n",
    "    print(num*unique_number)\n",
    "    "
   ]
  },
  {
   "cell_type": "code",
   "execution_count": 32,
   "metadata": {},
   "outputs": [
    {
     "name": "stdout",
     "output_type": "stream",
     "text": [
      "3\n",
      "6\n",
      "9\n",
      "12\n",
      "15\n"
     ]
    }
   ],
   "source": [
    "numbers = list(range(1,6))\n",
    "unique_number = 3\n",
    "\n",
    "for num in numbers:\n",
    "    print(num*unique_number)"
   ]
  },
  {
   "cell_type": "markdown",
   "metadata": {},
   "source": [
    "## Ejercicio 5\n",
    "Imprime por pantalla cada número del -10 al -1. En ese orden. Consulta [la documentación](https://www.w3schools.com/python/ref_func_range.asp) de `range`"
   ]
  },
  {
   "cell_type": "code",
   "execution_count": 30,
   "metadata": {},
   "outputs": [
    {
     "name": "stdout",
     "output_type": "stream",
     "text": [
      "[-10, -9, -8, -7, -6, -5, -4, -3, -2]\n"
     ]
    }
   ],
   "source": [
    "x = list(range(-10,-1))\n",
    "\n",
    "print(x)"
   ]
  },
  {
   "cell_type": "code",
   "execution_count": 33,
   "metadata": {},
   "outputs": [
    {
     "name": "stdout",
     "output_type": "stream",
     "text": [
      "[-10, -9, -8, -7, -6, -5, -4, -3, -2, -1]\n"
     ]
    }
   ],
   "source": [
    "print(list(range(-10,0)))"
   ]
  },
  {
   "cell_type": "markdown",
   "metadata": {},
   "source": [
    "## Ejercicio 6\n",
    "Dada la siguiente lista:\n",
    "\n",
    "> list1 = [12, 15, 32, 42, 55, 75, 122, 132, 150, 180, 200]\n",
    "\n",
    "Implementa un programa que los recorra e imprima por pantalla todos los divisibles por 5. Si nos encontramos con alguno que sea mayor que 150, detener el bucle."
   ]
  },
  {
   "cell_type": "code",
   "execution_count": 34,
   "metadata": {},
   "outputs": [
    {
     "name": "stdout",
     "output_type": "stream",
     "text": [
      "15 es divisible por 5\n",
      "55 es divisible por 5\n",
      "75 es divisible por 5\n",
      "150 es divisible por 5\n"
     ]
    }
   ],
   "source": [
    "list1 = [12, 15, 32, 42, 55, 75, 122, 132, 150, 180, 200]\n",
    "\n",
    "for elem in list1:\n",
    "    if elem > 150:\n",
    "        break\n",
    "    if elem %5 == 0:\n",
    "        print(elem, 'es divisible por 5')"
   ]
  },
  {
   "cell_type": "markdown",
   "metadata": {},
   "source": [
    "## Ejercicio 7\n",
    "Escribe un programa en Python que imprima por pantalla todos los números divisibles por 5 y divisibles por 7, dentro del rango de valores (150, 350)"
   ]
  },
  {
   "cell_type": "code",
   "execution_count": 35,
   "metadata": {},
   "outputs": [
    {
     "name": "stdout",
     "output_type": "stream",
     "text": [
      "175\n",
      "210\n",
      "245\n",
      "280\n",
      "315\n",
      "350\n"
     ]
    }
   ],
   "source": [
    "for x in range(150,351):\n",
    "    if x % 5 == 0 and x % 7 == 0:\n",
    "        print(x)"
   ]
  },
  {
   "cell_type": "code",
   "execution_count": null,
   "metadata": {},
   "outputs": [],
   "source": [
    "for x in range(150,351):\n",
    "    if x % 5 == 0 and x % 7 == 0:\n",
    "        print(x)"
   ]
  },
  {
   "cell_type": "markdown",
   "metadata": {},
   "source": [
    "## Ejercicio 8\n",
    "Implementa un programa que imprima por pantalla el siguiente patrón\n",
    "\n",
    "5 4 3 2 1 \n",
    "\n",
    "4 3 2 1 \n",
    "\n",
    "3 2 1 \n",
    "\n",
    "2 1 \n",
    "\n",
    "1\n",
    "\n",
    "NOTA: NO hay lineas en blanco entre una línea y otra."
   ]
  },
  {
   "cell_type": "code",
   "execution_count": 36,
   "metadata": {},
   "outputs": [
    {
     "name": "stdout",
     "output_type": "stream",
     "text": [
      "5 4 3 2 1\n",
      "4 3 2 1\n",
      "3 2 1\n",
      "2 1\n",
      "1\n"
     ]
    }
   ],
   "source": [
    "enumeracion = list(range(5,0,-1))\n",
    "while len(enumeracion) > 0:\n",
    "    print(*enumeracion)\n",
    "    enumeracion.pop(0)\n",
    "    "
   ]
  },
  {
   "cell_type": "code",
   "execution_count": 37,
   "metadata": {},
   "outputs": [
    {
     "name": "stdout",
     "output_type": "stream",
     "text": [
      "5 4 3 2 1\n",
      "4 3 2 1\n",
      "3 2 1\n",
      "2 1\n",
      "1\n"
     ]
    }
   ],
   "source": [
    "\n",
    "enumeracion = list(range(5,0,-1))\n",
    "for element in enumeracion.copy():\n",
    "    print(*enumeracion)\n",
    "    enumeracion.pop(0)"
   ]
  },
  {
   "cell_type": "markdown",
   "metadata": {},
   "source": [
    "## Ejercicio 9\n",
    "En este ejercicio vamos a crear un pequeño juego. Se trata de intentar adivinar un numero del 1 al 5. Tenemos dos intentos para acertar. Pasos a seguir:\n",
    "\n",
    "1. Ya viene implementado cómo obtener un número aleatorio del 1 al 5\n",
    "2. Tendrás que declarar en una variable el numero de vidas, y mediante un bucle while, comprobar que todavia quedan vidas.\n",
    "3. Dentro del bucle, obtener el valor del usuario y comprobar si es ese el numero a adivinar. Si no, actualizar las vidas.\n",
    "4. Si acertamos, salimos del bucle e imprimimos por pantalla \"You win\". Y si perdemos también salimos del bucle, pero en este caso imprimimos por pantalla \"You lose\".\n",
    "\n",
    "TIP: te puede resultar útil usar la sentencia `else` cuando acabe el bucle `while`. Lo que haya dentro de ese `else` se ejecutará una vez acabe la ejecución del `while`. Lo podrás usar para cuando pierdas."
   ]
  },
  {
   "cell_type": "code",
   "execution_count": 40,
   "metadata": {},
   "outputs": [
    {
     "name": "stdout",
     "output_type": "stream",
     "text": [
      "Bienvenido, tendrás que adivinar un número del 1 al 5\n",
      "Empiezas con 2 vidas\n",
      "Has perdido\n"
     ]
    }
   ],
   "source": [
    "import random\n",
    "\n",
    "n_adivinar = random.randint(1,5)\n",
    "\n",
    "vidas = 2\n",
    "\n",
    "print('Bienvenido, tendrás que adivinar un número del 1 al 5')\n",
    "\n",
    "print('Empiezas con', vidas, 'vidas')\n",
    "\n",
    "while vidas > 0:\n",
    "\n",
    "    n_usuario = int(input('Introduzca un número'))\n",
    "\n",
    "    if n_usuario > 5 or n_usuario < 1:\n",
    "        print('No seas idiota, es un numero entre 1 y 5')\n",
    "        continue\n",
    "\n",
    "    if n_usuario == n_adivinar:\n",
    "        print('Enhorabuena, ganaste')\n",
    "        break\n",
    "    vidas -= 1\n",
    "\n",
    "if vidas == 0:\n",
    "    print('Has perdido')\n",
    "\n",
    "\n",
    "\n"
   ]
  },
  {
   "cell_type": "code",
   "execution_count": 41,
   "metadata": {},
   "outputs": [
    {
     "name": "stdout",
     "output_type": "stream",
     "text": [
      "Bienvenido, tendrás que adivinar un número del 1 al 5\n",
      "Empiezas con 2 vidas\n",
      "No seas idiota, es un numero entre 1 y 5\n",
      "Has perdido\n"
     ]
    }
   ],
   "source": [
    "import random\n",
    "\n",
    "n_adivinar = random.randint(1,5)\n",
    "\n",
    "vidas = 2\n",
    "\n",
    "print('Bienvenido, tendrás que adivinar un número del 1 al 5')\n",
    "\n",
    "print('Empiezas con', vidas, 'vidas')\n",
    "\n",
    "while vidas > 0:\n",
    "\n",
    "    n_usuario = int(input('Introduzca un número'))\n",
    "\n",
    "    if n_usuario > 5 or n_usuario < 1:\n",
    "        print('No seas idiota, es un numero entre 1 y 5')\n",
    "        continue\n",
    "\n",
    "    if n_usuario == n_adivinar:\n",
    "        # print('Enhorabuena, ganaste')\n",
    "        break\n",
    "    vidas -= 1\n",
    "\n",
    "if vidas == 0:\n",
    "    print('Has perdido')\n",
    "else:\n",
    "    print('You win')"
   ]
  },
  {
   "cell_type": "code",
   "execution_count": null,
   "metadata": {},
   "outputs": [],
   "source": []
  }
 ],
 "metadata": {
  "kernelspec": {
   "display_name": "Python 3",
   "language": "python",
   "name": "python3"
  },
  "language_info": {
   "codemirror_mode": {
    "name": "ipython",
    "version": 3
   },
   "file_extension": ".py",
   "mimetype": "text/x-python",
   "name": "python",
   "nbconvert_exporter": "python",
   "pygments_lexer": "ipython3",
   "version": "3.11.5"
  }
 },
 "nbformat": 4,
 "nbformat_minor": 4
}
