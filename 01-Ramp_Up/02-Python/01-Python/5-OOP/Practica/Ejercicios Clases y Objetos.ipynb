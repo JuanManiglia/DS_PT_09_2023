{
 "cells": [
  {
   "cell_type": "markdown",
   "metadata": {},
   "source": [
    "![imagen](./img/ejercicios.png)\n",
    "\n",
    "# Ejercicios Clases y Objetos"
   ]
  },
  {
   "cell_type": "markdown",
   "metadata": {},
   "source": [
    "## Ejercicio 1\n",
    "Somos una empresa que tiene varias tiendas de electrodomesticos. Necesitamos un programa para manejar las tiendas, ver las ventas que han tenido, cuántos empleados hay, etc... Para ello vamos a modelizar la tienda en una clase, que tendrá las siguientes características:\n",
    "* Nombre clase: \"Tienda\"\n",
    "* Atributos comunes:\n",
    "    * Tipo: \"Electrodomésticos\"\n",
    "    * Abierta: True\n",
    "* Atributos propios de cada tienda:\n",
    "    * Nombre - String\n",
    "    * Dirección - String\n",
    "    * Número de empleados - int\n",
    "    * Ventas ultimos 3 meses - Lista de 3 numeros\n",
    "* Método para calcular las ventas de todos los meses, que devuelva un numero con todas las ventas.\n",
    "* Método que calcula la media de ventas de los ultimos meses, por empleado\n",
    "* Método que devuelve en un string el nombre de la tienda, junto con su dirección.\n",
    "* Método que obtiene las ventas del último mes.\n",
    "* Método para dar una proyección de las ventas en caso de haber invertido X dinero en marketing en esa tienda. Siendo X el parámetro de entrada. Si X es menor de 1000, las ventas de los ultimos 3 meses hubiesen sido de (1.2 x ventas), si es mayor o igual de 1000, las ventas hubiesen sido de (1.5 x venta). El método reescribe el atributo de ventas en los últimos 3 meses, y además devuelve las ventas con el aumento.\n",
    "\n",
    "Se pide:\n",
    "1. Implementar la clase \"Tienda\"\n",
    "2. Crear tres tiendas con datos inventados\n",
    "3. Comprueba en al menos una de ellas, todo lo implementado en la clase tienda (sus atributos, media de ventas, ventas/empleado...)\n",
    "3. Calcular las ventas del último mes de todas las tiendas. Para ello usa el bucle `for`\n",
    "4. Imprime por pantalla los nombres de las tiendas cuya dirección lleve el string \"Avenida\"\n",
    "5. Seguro que ya has hecho este apartado... Documenta la clase :)"
   ]
  },
  {
   "cell_type": "code",
   "execution_count": 7,
   "metadata": {},
   "outputs": [],
   "source": [
    "class Tienda:\n",
    "    '''\n",
    "    Clase tienda \n",
    "    Parameters:\n",
    "    tipo: distingue el tipo de tienda\n",
    "    abierta: se establece que por defecto, están en funcionamiento\n",
    "    \n",
    "    '''\n",
    "    tipo = 'Electrodomesticos'\n",
    "    abierta = True\n",
    "\n",
    "    def __init__(self, nombre, direccion, num_empleados, ventas_3meses):\n",
    "        self.nombre = str(nombre)\n",
    "        self.direccion = str(direccion)\n",
    "        self.num_empleados = int(num_empleados)\n",
    "        self.ventas_3meses = list(ventas_3meses)\n",
    "    '''\n",
    "    Cada tienda tendrá que implementar unos atributos especificos para cada una:\n",
    "    nombre: nombre de la tienda\n",
    "    dirección: dirección de localizacion de la tienda\n",
    "    num_empleados: numero de trabajadores de la tienda\n",
    "    ventas_3meses: valor de las ventas de cada uno de los últimos 3 meses\n",
    "    \n",
    "    '''\n",
    "   \n",
    "    def ventas(self) -> str:\n",
    "        ventas_total = sum(self.ventas_3meses)\n",
    "        return print(f\"Las ventas son de {ventas_total} euros\")\n",
    "    \n",
    "    '''\n",
    "    calcular las ventas de todos los meses\n",
    "    '''\n",
    "\n",
    "    def media_ventas(self) ->float:\n",
    "        suma_ventas = sum(self.ventas_3meses)\n",
    "        return print('La media de ventas por empleado es de', suma_ventas/self.num_empleados)\n",
    "  \n",
    "    '''\n",
    "    calcula la media de ventas de los ultimos meses, por \n",
    "    '''\n",
    "    \n",
    "    def name_address(self) -> str:\n",
    "        return print(f'La tienda {self.nombre} está situada en {self.direccion}')\n",
    "    \n",
    "    '''\n",
    "    Imprime el nombre de la tienda con su dirección correspondiente\n",
    "    '''\n",
    "\n",
    "    def ultimas_ventas(self):\n",
    "        return print(f'Las ventas el último mes ascendieron a {self.ventas_3meses[-1]} euros')\n",
    "    '''\n",
    "    obtiene las ventas del último mes\n",
    "    '''\n",
    "    def proyeccion(self):\n",
    "        \n",
    "        inversion = float(input('introduzca la cantidad invertida en marketing', ))\n",
    "        \n",
    "        ventas_total = sum(self.ventas_3meses)\n",
    "        \n",
    "        if inversion < 1000:\n",
    "            ventas_finales = ventas_total*1.2\n",
    "            self.ventas_3meses = ventas_finales\n",
    "            print(f'Las ventas han sido de {ventas_finales}')\n",
    "\n",
    "        elif inversion >= 1000:\n",
    "            ventas_finales = ventas_total*1.5\n",
    "            self.ventas_3meses = ventas_finales\n",
    "            print(f'Las ventas han sido de {ventas_finales}')\n",
    "\n",
    "        '''\n",
    "        proyeccion de ventas segun inversión en marketing\n",
    "        '''\n",
    "\n",
    "\n"
   ]
  },
  {
   "cell_type": "code",
   "execution_count": 8,
   "metadata": {},
   "outputs": [],
   "source": [
    "tienda_1 = Tienda('Hiber', 'Avenida del Mediterráneo', 10, [4000, 4200, 4300])\n",
    "tienda_2 = Tienda('Aldi', 'Paseo de la Castellana', 15, [4500, 5000, 6000])\n",
    "tienda_3 = Tienda('Mercadona', 'Calle Ayala', 4, [3000, 4200, 2500])"
   ]
  },
  {
   "cell_type": "code",
   "execution_count": 9,
   "metadata": {},
   "outputs": [
    {
     "name": "stdout",
     "output_type": "stream",
     "text": [
      "Las ventas son de 12500 euros\n",
      "La media de ventas por empleado es de 1250.0\n",
      "La tienda Hiber está situada en Avenida del Mediterráneo\n",
      "Las ventas el último mes ascendieron a 4300 euros\n",
      "Las ventas han sido de 15000.0\n"
     ]
    }
   ],
   "source": [
    "tienda_1.ventas()\n",
    "tienda_1.media_ventas()\n",
    "tienda_1.name_address()\n",
    "tienda_1.ultimas_ventas()\n",
    "tienda_1.proyeccion()\n",
    "\n",
    "\n"
   ]
  },
  {
   "cell_type": "code",
   "execution_count": 14,
   "metadata": {},
   "outputs": [
    {
     "ename": "TypeError",
     "evalue": "'Tienda' object is not subscriptable",
     "output_type": "error",
     "traceback": [
      "\u001b[1;31m---------------------------------------------------------------------------\u001b[0m",
      "\u001b[1;31mTypeError\u001b[0m                                 Traceback (most recent call last)",
      "\u001b[1;32mc:\\Users\\laura\\Desktop\\DS_PT_09_2023\\01-Ramp_Up\\02-Python\\01-Python\\5-OOP\\Practica\\Ejercicios Clases y Objetos.ipynb Cell 6\u001b[0m line \u001b[0;36m3\n\u001b[0;32m      <a href='vscode-notebook-cell:/c%3A/Users/laura/Desktop/DS_PT_09_2023/01-Ramp_Up/02-Python/01-Python/5-OOP/Practica/Ejercicios%20Clases%20y%20Objetos.ipynb#W5sZmlsZQ%3D%3D?line=0'>1</a>\u001b[0m \u001b[39m# Calcular las ventas del último mes de todas las tiendas. Para ello usa el bucle `for`\u001b[39;00m\n\u001b[1;32m----> <a href='vscode-notebook-cell:/c%3A/Users/laura/Desktop/DS_PT_09_2023/01-Ramp_Up/02-Python/01-Python/5-OOP/Practica/Ejercicios%20Clases%20y%20Objetos.ipynb#W5sZmlsZQ%3D%3D?line=2'>3</a>\u001b[0m tienda_1[\u001b[39m3\u001b[39;49m][\u001b[39m2\u001b[39m]\n",
      "\u001b[1;31mTypeError\u001b[0m: 'Tienda' object is not subscriptable"
     ]
    }
   ],
   "source": [
    "# Calcular las ventas del último mes de todas las tiendas. Para ello usa el bucle `for`\n",
    "\n",
    "tienda_1[3][2]"
   ]
  },
  {
   "cell_type": "code",
   "execution_count": 13,
   "metadata": {},
   "outputs": [
    {
     "name": "stdout",
     "output_type": "stream",
     "text": [
      "<class '__main__.Tienda'>\n"
     ]
    },
    {
     "ename": "TypeError",
     "evalue": "'float' object is not subscriptable",
     "output_type": "error",
     "traceback": [
      "\u001b[1;31m---------------------------------------------------------------------------\u001b[0m",
      "\u001b[1;31mTypeError\u001b[0m                                 Traceback (most recent call last)",
      "\u001b[1;32mc:\\Users\\laura\\Desktop\\DS_PT_09_2023\\01-Ramp_Up\\02-Python\\01-Python\\5-OOP\\Practica\\Ejercicios Clases y Objetos.ipynb Cell 7\u001b[0m line \u001b[0;36m3\n\u001b[0;32m      <a href='vscode-notebook-cell:/c%3A/Users/laura/Desktop/DS_PT_09_2023/01-Ramp_Up/02-Python/01-Python/5-OOP/Practica/Ejercicios%20Clases%20y%20Objetos.ipynb#W6sZmlsZQ%3D%3D?line=0'>1</a>\u001b[0m \u001b[39m# Imprime por pantalla los nombres de las tiendas cuya dirección lleve el string \"Avenida\"\u001b[39;00m\n\u001b[0;32m      <a href='vscode-notebook-cell:/c%3A/Users/laura/Desktop/DS_PT_09_2023/01-Ramp_Up/02-Python/01-Python/5-OOP/Practica/Ejercicios%20Clases%20y%20Objetos.ipynb#W6sZmlsZQ%3D%3D?line=1'>2</a>\u001b[0m \u001b[39mprint\u001b[39m(\u001b[39mtype\u001b[39m(tienda_1))\n\u001b[1;32m----> <a href='vscode-notebook-cell:/c%3A/Users/laura/Desktop/DS_PT_09_2023/01-Ramp_Up/02-Python/01-Python/5-OOP/Practica/Ejercicios%20Clases%20y%20Objetos.ipynb#W6sZmlsZQ%3D%3D?line=2'>3</a>\u001b[0m tienda_1\u001b[39m.\u001b[39;49mventas_3meses[\u001b[39m2\u001b[39;49m]\n",
      "\u001b[1;31mTypeError\u001b[0m: 'float' object is not subscriptable"
     ]
    }
   ],
   "source": [
    "# Imprime por pantalla los nombres de las tiendas cuya dirección lleve el string \"Avenida\"\n",
    "print(type(tienda_1))\n"
   ]
  },
  {
   "cell_type": "code",
   "execution_count": null,
   "metadata": {},
   "outputs": [],
   "source": []
  },
  {
   "cell_type": "markdown",
   "metadata": {},
   "source": [
    "## Ejercicio 2\n",
    "En este ejercicio vamos a implementar una clase *Perro* en Python. La clase tiene las siguientes características:\n",
    "* Cosas que sabemos seguro que tiene un perro\n",
    "    * Tiene 4 patas\n",
    "    * 2 orejas\n",
    "    * 2 ojos\n",
    "    * Una velocidad de 0. Por defecto, el perro está parado\n",
    "* Cuando se inicialice:\n",
    "    * El perro será de una determinada raza\n",
    "    * Por defecto tendrá pelo \"Marrón\", a no ser que se diga lo contrario.\n",
    "    * Por defecto no tendrá dueño, a no ser que se diga lo contrario.\n",
    "    \n",
    "* Dispondrá también de un método llamado andar, que tiene un argumento de entrada (aumento_velocidad). Este valor se le sumará a la velocidad que ya llevaba el perro.\n",
    "* Necesita otro método (parar), donde pondremos la velocidad a 0.\n",
    "* Otro método llamado \"ladrar\", que tendrá un argumento de entrada, y la salida será el siguiente string: \"GUAU!\" + el argumento de entrada.\n",
    "\n",
    "\n",
    "Se pide:\n",
    "* Implementa la clase *Perro*\n",
    "* Crea un objeto de tipo *Perro*, sin dueño\n",
    "* Comprueba que están bien todos sus atributos\n",
    "* Prueba que ande, y comprueba su velocidad\n",
    "* Páralo\n",
    "* Documenta la clase *Perro*"
   ]
  },
  {
   "cell_type": "code",
   "execution_count": 14,
   "metadata": {},
   "outputs": [],
   "source": [
    "class Perro:\n",
    "    patas = 4\n",
    "    orejas = 2\n",
    "    ojos = 2\n",
    "    velocidad = 0\n",
    "\n",
    "def __init__(self, raza, pelo = 'Marrón', dueño = False):\n",
    "    self.raza = raza\n",
    "    self.pelo = pelo\n",
    "    self.dueño = dueño\n",
    "\n",
    "def andar(self):\n",
    "    velocidad = self.velocidad + float((input('Inroduzca la velocidad', )))\n",
    "    self.velocidad = velocidad\n",
    "    return print(f'La velocidad es de {velocidad}')\n",
    "    \n",
    "def parar(self):\n",
    "    self.velocidad = 0 \n",
    "    return print('El perro ha parado')\n",
    "\n",
    "def ladrar(self):\n",
    "    ladrido = input()\n",
    "    return print(f'GUAU! {ladrido}')\n"
   ]
  },
  {
   "cell_type": "code",
   "execution_count": 18,
   "metadata": {},
   "outputs": [
    {
     "ename": "TypeError",
     "evalue": "Perro() takes no arguments",
     "output_type": "error",
     "traceback": [
      "\u001b[1;31m---------------------------------------------------------------------------\u001b[0m",
      "\u001b[1;31mTypeError\u001b[0m                                 Traceback (most recent call last)",
      "\u001b[1;32mc:\\Users\\laura\\Desktop\\DS_PT_09_2023\\01-Ramp_Up\\02-Python\\01-Python\\5-OOP\\Practica\\Ejercicios Clases y Objetos.ipynb Cell 11\u001b[0m line \u001b[0;36m1\n\u001b[1;32m----> <a href='vscode-notebook-cell:/c%3A/Users/laura/Desktop/DS_PT_09_2023/01-Ramp_Up/02-Python/01-Python/5-OOP/Practica/Ejercicios%20Clases%20y%20Objetos.ipynb#X15sZmlsZQ%3D%3D?line=0'>1</a>\u001b[0m perro_1 \u001b[39m=\u001b[39m Perro(\u001b[39m'\u001b[39;49m\u001b[39mpastor\u001b[39;49m\u001b[39m'\u001b[39;49m)\n",
      "\u001b[1;31mTypeError\u001b[0m: Perro() takes no arguments"
     ]
    }
   ],
   "source": [
    "perro_1 = Perro('pastor')"
   ]
  },
  {
   "cell_type": "code",
   "execution_count": null,
   "metadata": {},
   "outputs": [],
   "source": []
  },
  {
   "cell_type": "code",
   "execution_count": null,
   "metadata": {},
   "outputs": [],
   "source": []
  }
 ],
 "metadata": {
  "kernelspec": {
   "display_name": "Python 3",
   "language": "python",
   "name": "python3"
  },
  "language_info": {
   "codemirror_mode": {
    "name": "ipython",
    "version": 3
   },
   "file_extension": ".py",
   "mimetype": "text/x-python",
   "name": "python",
   "nbconvert_exporter": "python",
   "pygments_lexer": "ipython3",
   "version": "3.11.5"
  }
 },
 "nbformat": 4,
 "nbformat_minor": 4
}
