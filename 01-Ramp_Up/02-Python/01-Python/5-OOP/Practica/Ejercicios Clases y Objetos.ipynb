{
 "cells": [
  {
   "cell_type": "markdown",
   "metadata": {},
   "source": [
    "![imagen](./img/ejercicios.png)\n",
    "\n",
    "# Ejercicios Clases y Objetos"
   ]
  },
  {
   "cell_type": "markdown",
   "metadata": {},
   "source": [
    "## Ejercicio 1\n",
    "Somos una empresa que tiene varias tiendas de electrodomesticos. Necesitamos un programa para manejar las tiendas, ver las ventas que han tenido, cuántos empleados hay, etc... Para ello vamos a modelizar la tienda en una clase, que tendrá las siguientes características:\n",
    "* Nombre clase: \"Tienda\"\n",
    "* Atributos comunes:\n",
    "    * Tipo: \"Electrodomésticos\"\n",
    "    * Abierta: True\n",
    "* Atributos propios de cada tienda:\n",
    "    * Nombre - String\n",
    "    * Dirección - String\n",
    "    * Número de empleados - int\n",
    "    * Ventas ultimos 3 meses - Lista de 3 numeros\n",
    "* Método para calcular las ventas de todos los meses, que devuelva un numero con todas las ventas.\n",
    "* Método que calcula la media de ventas de los ultimos meses, por empleado\n",
    "* Método que devuelve en un string el nombre de la tienda, junto con su dirección.\n",
    "* Método que obtiene las ventas del último mes.\n",
    "* Método para dar una proyección de las ventas en caso de haber invertido X dinero en marketing en esa tienda. Siendo X el parámetro de entrada. Si X es menor de 1000, las ventas de los ultimos 3 meses hubiesen sido de (1.2 x ventas), si es mayor o igual de 1000, las ventas hubiesen sido de (1.5 x venta). El método reescribe el atributo de ventas en los últimos 3 meses, y además devuelve las ventas con el aumento.\n",
    "\n",
    "Se pide:\n",
    "1. Implementar la clase \"Tienda\"\n",
    "2. Crear tres tiendas con datos inventados\n",
    "3. Comprueba en al menos una de ellas, todo lo implementado en la clase tienda (sus atributos, media de ventas, ventas/empleado...)\n",
    "3. Calcular las ventas del último mes de todas las tiendas. Para ello usa el bucle `for`\n",
    "4. Imprime por pantalla los nombres de las tiendas cuya dirección lleve el string \"Avenida\"\n",
    "5. Seguro que ya has hecho este apartado... Documenta la clase :)"
   ]
  },
  {
   "cell_type": "code",
   "execution_count": 14,
   "metadata": {},
   "outputs": [],
   "source": [
    "class Tienda:\n",
    "    tipo = 'Electrodomesticos'\n",
    "    abierta = True\n",
    "\n",
    "    def __init__(self, nombre, direccion, num_empleados, ventas_3meses):\n",
    "        self.nombre = str(nombre)\n",
    "        self.direccion = str(direccion)\n",
    "        self.num_empleados = int(num_empleados)\n",
    "        self.ventas_3meses = list(ventas_3meses)\n",
    "   \n",
    "    def ventas(self) -> str:\n",
    "        ventas_total = sum(self.ventas_3meses)\n",
    "        return print(f\"Las ventas son de {ventas_total} euros\")\n",
    "\n",
    "    def media_ventas(self) ->float:\n",
    "        suma_ventas = sum(self.ventas_3meses)\n",
    "        return print('La media de ventas por empleado es de', suma_ventas/self.num_empleados)\n",
    "    \n",
    "    def name_address(self) -> str:\n",
    "        return print(f'La tienda {self.nombre} está situada en {self.direccion}')\n",
    "                     \n",
    "    def ultimas_ventas(self):\n",
    "        return print(f'Las ventas el último mes ascendieron a {self.ventas_3meses[-1]} euros')\n",
    "\n",
    "    def proyeccion(self):\n",
    "        \n",
    "        inversion = float(input('introduzca la cantidad invertida en marketing', ))\n",
    "        \n",
    "        ventas_total = sum(self.ventas_3meses)\n",
    "        \n",
    "        if inversion < 1000:\n",
    "            ventas_finales = ventas_total*1.2\n",
    "            self.ventas_3meses = ventas_finales\n",
    "            print(f'Las ventas han sido de {ventas_finales}')\n",
    "\n",
    "        elif inversion >= 1000:\n",
    "            ventas_finales = ventas_total*1.5\n",
    "            self.ventas_3meses = ventas_finales\n",
    "            print(f'Las ventas han sido de {ventas_finales}')\n",
    "\n",
    "\n"
   ]
  },
  {
   "cell_type": "code",
   "execution_count": 15,
   "metadata": {},
   "outputs": [],
   "source": [
    "tienda_1 = Tienda('Hiber', 'Avenida del Mediterráneo', 10, [4000, 4200, 4300])\n",
    "tienda_2 = Tienda('Aldi', 'Paseo de la Castellana', 15, [4500, 5000, 6000])\n",
    "tienda_3 = Tienda('Mercadona', 'Calle Ayala', 4, [3000, 4200, 2500])"
   ]
  },
  {
   "cell_type": "code",
   "execution_count": 20,
   "metadata": {},
   "outputs": [
    {
     "ename": "TypeError",
     "evalue": "'float' object is not iterable",
     "output_type": "error",
     "traceback": [
      "\u001b[1;31m---------------------------------------------------------------------------\u001b[0m",
      "\u001b[1;31mTypeError\u001b[0m                                 Traceback (most recent call last)",
      "\u001b[1;32mc:\\Users\\laura\\Desktop\\DS_PT_09_2023\\01-Ramp_Up\\02-Python\\01-Python\\5-OOP\\Practica\\Ejercicios Clases y Objetos.ipynb Cell 5\u001b[0m line \u001b[0;36m1\n\u001b[1;32m----> <a href='vscode-notebook-cell:/c%3A/Users/laura/Desktop/DS_PT_09_2023/01-Ramp_Up/02-Python/01-Python/5-OOP/Practica/Ejercicios%20Clases%20y%20Objetos.ipynb#W4sZmlsZQ%3D%3D?line=0'>1</a>\u001b[0m tienda_1\u001b[39m.\u001b[39;49mventas()\n\u001b[0;32m      <a href='vscode-notebook-cell:/c%3A/Users/laura/Desktop/DS_PT_09_2023/01-Ramp_Up/02-Python/01-Python/5-OOP/Practica/Ejercicios%20Clases%20y%20Objetos.ipynb#W4sZmlsZQ%3D%3D?line=1'>2</a>\u001b[0m tienda_1\u001b[39m.\u001b[39mmedia_ventas()\n\u001b[0;32m      <a href='vscode-notebook-cell:/c%3A/Users/laura/Desktop/DS_PT_09_2023/01-Ramp_Up/02-Python/01-Python/5-OOP/Practica/Ejercicios%20Clases%20y%20Objetos.ipynb#W4sZmlsZQ%3D%3D?line=2'>3</a>\u001b[0m tienda_1\u001b[39m.\u001b[39mname_address()\n",
      "\u001b[1;32mc:\\Users\\laura\\Desktop\\DS_PT_09_2023\\01-Ramp_Up\\02-Python\\01-Python\\5-OOP\\Practica\\Ejercicios Clases y Objetos.ipynb Cell 5\u001b[0m line \u001b[0;36m1\n\u001b[0;32m     <a href='vscode-notebook-cell:/c%3A/Users/laura/Desktop/DS_PT_09_2023/01-Ramp_Up/02-Python/01-Python/5-OOP/Practica/Ejercicios%20Clases%20y%20Objetos.ipynb#W4sZmlsZQ%3D%3D?line=10'>11</a>\u001b[0m \u001b[39mdef\u001b[39;00m \u001b[39mventas\u001b[39m(\u001b[39mself\u001b[39m) \u001b[39m-\u001b[39m\u001b[39m>\u001b[39m \u001b[39mstr\u001b[39m:\n\u001b[1;32m---> <a href='vscode-notebook-cell:/c%3A/Users/laura/Desktop/DS_PT_09_2023/01-Ramp_Up/02-Python/01-Python/5-OOP/Practica/Ejercicios%20Clases%20y%20Objetos.ipynb#W4sZmlsZQ%3D%3D?line=11'>12</a>\u001b[0m     ventas_total \u001b[39m=\u001b[39m \u001b[39msum\u001b[39;49m(\u001b[39mself\u001b[39;49m\u001b[39m.\u001b[39;49mventas_3meses)\n\u001b[0;32m     <a href='vscode-notebook-cell:/c%3A/Users/laura/Desktop/DS_PT_09_2023/01-Ramp_Up/02-Python/01-Python/5-OOP/Practica/Ejercicios%20Clases%20y%20Objetos.ipynb#W4sZmlsZQ%3D%3D?line=12'>13</a>\u001b[0m     \u001b[39mreturn\u001b[39;00m \u001b[39mprint\u001b[39m(\u001b[39mf\u001b[39m\u001b[39m\"\u001b[39m\u001b[39mLas ventas son de \u001b[39m\u001b[39m{\u001b[39;00mventas_total\u001b[39m}\u001b[39;00m\u001b[39m euros\u001b[39m\u001b[39m\"\u001b[39m)\n",
      "\u001b[1;31mTypeError\u001b[0m: 'float' object is not iterable"
     ]
    }
   ],
   "source": [
    "tienda_1.ventas()\n",
    "tienda_1.media_ventas()\n",
    "tienda_1.name_address()\n",
    "tienda_1.ultimas_ventas()\n",
    "tienda_1.proyeccion()\n",
    "\n",
    "\n"
   ]
  },
  {
   "cell_type": "code",
   "execution_count": null,
   "metadata": {},
   "outputs": [],
   "source": []
  },
  {
   "cell_type": "code",
   "execution_count": null,
   "metadata": {},
   "outputs": [],
   "source": []
  },
  {
   "cell_type": "code",
   "execution_count": null,
   "metadata": {},
   "outputs": [],
   "source": []
  },
  {
   "cell_type": "code",
   "execution_count": null,
   "metadata": {},
   "outputs": [],
   "source": []
  },
  {
   "cell_type": "code",
   "execution_count": null,
   "metadata": {},
   "outputs": [],
   "source": []
  },
  {
   "cell_type": "markdown",
   "metadata": {},
   "source": [
    "## Ejercicio 2\n",
    "En este ejercicio vamos a implementar una clase *Perro* en Python. La clase tiene las siguientes características:\n",
    "* Cosas que sabemos seguro que tiene un perro\n",
    "    * Tiene 4 patas\n",
    "    * 2 orejas\n",
    "    * 2 ojos\n",
    "    * Una velocidad de 0. Por defecto, el perro está parado\n",
    "* Cuando se inicialice:\n",
    "    * El perro será de una determinada raza\n",
    "    * Por defecto tendrá pelo \"Marrón\", a no ser que se diga lo contrario.\n",
    "    * Por defecto no tendrá dueño, a no ser que se diga lo contrario.\n",
    "    \n",
    "* Dispondrá también de un método llamado andar, que tiene un argumento de entrada (aumento_velocidad). Este valor se le sumará a la velocidad que ya llevaba el perro.\n",
    "* Necesita otro método (parar), donde pondremos la velocidad a 0.\n",
    "* Otro método llamado \"ladrar\", que tendrá un argumento de entrada, y la salida será el siguiente string: \"GUAU!\" + el argumento de entrada.\n",
    "\n",
    "\n",
    "Se pide:\n",
    "* Implementa la clase *Perro*\n",
    "* Crea un objeto de tipo *Perro*, sin dueño\n",
    "* Comprueba que están bien todos sus atributos\n",
    "* Prueba que ande, y comprueba su velocidad\n",
    "* Páralo\n",
    "* Documenta la clase *Perro*"
   ]
  },
  {
   "cell_type": "code",
   "execution_count": null,
   "metadata": {},
   "outputs": [],
   "source": [
    "class Perro:\n",
    "    patas = 4\n",
    "    orejas = 2\n",
    "    ojos = 2\n",
    "    velocidad = 0\n",
    "\n",
    "def __init__(self, raza, pelo = 'Marrón', dueño = False):\n",
    "    self.raza = raza\n",
    "    self.pelo = pelo\n",
    "    self.dueño = dueño\n",
    "\n",
    "def andar(self):\n",
    "    velocidad = self.velocidad + float((input('Inroduzca la velocidad', )))\n",
    "    return print(f'La velocidad es de {velocidad}')\n",
    "    \n",
    "def parar(self):\n",
    "\n",
    "def ladrar(self):\n",
    "    ladrido = input()\n",
    "    return print(f'GUAU! {ladrido}')\n"
   ]
  },
  {
   "cell_type": "code",
   "execution_count": null,
   "metadata": {},
   "outputs": [],
   "source": [
    "def ladrar()"
   ]
  },
  {
   "cell_type": "code",
   "execution_count": null,
   "metadata": {},
   "outputs": [],
   "source": []
  },
  {
   "cell_type": "code",
   "execution_count": null,
   "metadata": {},
   "outputs": [],
   "source": []
  }
 ],
 "metadata": {
  "kernelspec": {
   "display_name": "Python 3",
   "language": "python",
   "name": "python3"
  },
  "language_info": {
   "codemirror_mode": {
    "name": "ipython",
    "version": 3
   },
   "file_extension": ".py",
   "mimetype": "text/x-python",
   "name": "python",
   "nbconvert_exporter": "python",
   "pygments_lexer": "ipython3",
   "version": "3.11.5"
  }
 },
 "nbformat": 4,
 "nbformat_minor": 4
}
