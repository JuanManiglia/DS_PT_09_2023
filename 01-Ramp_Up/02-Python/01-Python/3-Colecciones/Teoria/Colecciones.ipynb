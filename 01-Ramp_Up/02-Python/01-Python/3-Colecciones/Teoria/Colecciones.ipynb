{
 "cells": [
  {
   "cell_type": "markdown",
   "metadata": {},
   "source": [
    "![imagen](./img/python.jpg)"
   ]
  },
  {
   "cell_type": "markdown",
   "metadata": {},
   "source": [
    "# Python Colecciones\n",
    "\n",
    "Las colecciones son una manera de agrupar varios elementos. En otros notebooks vimos cómo funcionan las listas, que es la colección más usada, pero se trata solo de la punta del iceberg. Con Python tenemos varias manera de almacenar conjuntos de datos, dependiendo del tipo de dato, finalidad, tipo de acceso y rendimiento.\n",
    "\n",
    "1. [Listas](#1.-Listas)\n",
    "2. [Tuplas](#2.-Tuplas)\n",
    "3. [Diccionarios](#3.-Diccionarios)\n",
    "4. [Sets](#4.-Sets)\n",
    "5. [Conversiones entre colecciones](#5.-Conversiones-entre-colecciones)\n",
    "6. [Comprensión de listas](#6.-Comprensión-de-listas)\n",
    "7. [Resumen](#7.-Resumen)"
   ]
  },
  {
   "cell_type": "markdown",
   "metadata": {},
   "source": [
    "## 1. Listas\n",
    "Ya conocemos bastante las listas. Veamos un repaso de lo que podemos hacer con ellas, así como algunas funcionalidades nuevas"
   ]
  },
  {
   "cell_type": "code",
   "execution_count": null,
   "metadata": {},
   "outputs": [],
   "source": [
    "# Listas de números, strings, booleanos, con elementos repetidos, listas anidadas...\n",
    "nums = [6, 2, 8, 3, 4, 5, 5]\n",
    "months = [\"Enero\", \"Febrero\", \"Marzo\"]\n",
    "mix = [5, 7, \"Abril\", True, None, [\"Blanco\", \"Negro\"]]\n",
    "\n",
    "# Longitud de la lista\n",
    "print(len(nums))\n",
    "\n",
    "# Indexación\n",
    "print(months[0])\n",
    "print(months[len(months)-1]) "
   ]
  },
  {
   "cell_type": "markdown",
   "metadata": {},
   "source": [
    "### Acceso\n",
    "Entre corchetes introducimos el indice del elemento al que queremos acceder"
   ]
  },
  {
   "cell_type": "code",
   "execution_count": null,
   "metadata": {},
   "outputs": [],
   "source": [
    "print(months[0])\n",
    "print(months[-1])"
   ]
  },
  {
   "cell_type": "markdown",
   "metadata": {},
   "source": [
    "Si planteamos el problema al revés. Tenemos los valores de la lista y lo que queremos es obtener el índice de esos valores dentro de la lista"
   ]
  },
  {
   "cell_type": "code",
   "execution_count": null,
   "metadata": {},
   "outputs": [],
   "source": [
    "months.index(\"Marzo\")"
   ]
  },
  {
   "cell_type": "markdown",
   "metadata": {},
   "source": [
    "**Slicing**: usamos slicing para acceder a varios elementos seguidos de la lista"
   ]
  },
  {
   "cell_type": "code",
   "execution_count": null,
   "metadata": {},
   "outputs": [],
   "source": [
    "degrees = [22, 34, 15, 26, 18, 22]\n",
    "\n",
    "print(degrees[2:4])\n",
    "print(degrees[2:5])\n",
    "print(type(degrees[2:3]))"
   ]
  },
  {
   "cell_type": "code",
   "execution_count": null,
   "metadata": {},
   "outputs": [],
   "source": [
    "degrees[2:3]*2"
   ]
  },
  {
   "cell_type": "markdown",
   "metadata": {},
   "source": [
    "### Modificar elementos\n",
    "Las listas son mutables, por lo que podremos modificarlas"
   ]
  },
  {
   "cell_type": "code",
   "execution_count": null,
   "metadata": {},
   "outputs": [],
   "source": [
    "print(months)\n",
    "\n",
    "months[2] = \"Abril\"\n",
    "print(months)"
   ]
  },
  {
   "cell_type": "markdown",
   "metadata": {},
   "source": [
    "### Añadir elementos\n",
    "Se añade al final de la lista si usamos `append`, o si queremos en un lugar concreto, mediante `insert`"
   ]
  },
  {
   "cell_type": "code",
   "execution_count": null,
   "metadata": {},
   "outputs": [],
   "source": [
    "motos = ['honda', 'yamaha', 'suzuki']\n",
    "print(motos)\n",
    "\n",
    "motos.append('ducati')\n",
    "print(motos)\n",
    "# append inserta por defecto al final\n",
    "\n",
    "motos.insert(2, 'kawasaki')\n",
    "print(motos)\n",
    "# inset recibe dos parametros apra añadir un elemento en la posición que queramos"
   ]
  },
  {
   "cell_type": "code",
   "execution_count": null,
   "metadata": {},
   "outputs": [],
   "source": [
    "motos = []\n",
    "\n",
    "motos.append('ducati')\n",
    "print(motos)"
   ]
  },
  {
   "cell_type": "markdown",
   "metadata": {},
   "source": [
    "### Eliminar elementos\n",
    "Para eliminar elementos se usar `remove`. Si no existe, da error, así que cuidado con esta sentencia.\n",
    "\n",
    "En ocasiones resulta útil quedarnos con el elemento eliminado. Para ello usamos `pop()`, que elimina el elemento que le indiquemos, y además devuelve ese elemento por lo que podremos guardarlo en una variable para usarlo después."
   ]
  },
  {
   "cell_type": "code",
   "execution_count": 1,
   "metadata": {},
   "outputs": [
    {
     "name": "stdout",
     "output_type": "stream",
     "text": [
      "['VW', 'Seat', 'BMW', 'VW']\n",
      "None\n",
      "['Seat', 'BMW', 'VW']\n"
     ]
    }
   ],
   "source": [
    "cars = ['VW', 'Seat', 'BMW', 'VW']\n",
    "print(cars)\n",
    "\n",
    "print(cars.remove('VW'))\n",
    "print(cars)\n",
    "# print(cars.remove('VW'))\n",
    "# print(cars)"
   ]
  },
  {
   "cell_type": "markdown",
   "metadata": {},
   "source": [
    "los metodos de lista no devuelven, solo modifican la lista\n",
    ".remove busca la primera coincidencia y la elimina\n"
   ]
  },
  {
   "cell_type": "code",
   "execution_count": 2,
   "metadata": {},
   "outputs": [
    {
     "name": "stdout",
     "output_type": "stream",
     "text": [
      "VW\n",
      "['Seat', 'BMW']\n"
     ]
    }
   ],
   "source": [
    "print(cars.pop())\n",
    "print(cars)"
   ]
  },
  {
   "cell_type": "code",
   "execution_count": null,
   "metadata": {},
   "outputs": [],
   "source": []
  },
  {
   "cell_type": "markdown",
   "metadata": {},
   "source": [
    ".pop sí devuelve lo que elimina, al contrario que los otros metodos de listas que devuelven None\n",
    "se podria crear una variable con el .pop \n"
   ]
  },
  {
   "cell_type": "markdown",
   "metadata": {},
   "source": [
    "<table align=\"left\">\n",
    " <tr><td width=\"80\"><img src=\"./img/error.png\" style=\"width:auto;height:auto\"></td>\n",
    "     <td style=\"text-align:left\">\n",
    "         <h3>ERRORES remove</h3>\n",
    "         \n",
    " </td></tr>\n",
    "</table>"
   ]
  },
  {
   "cell_type": "code",
   "execution_count": 1,
   "metadata": {
    "collapsed": true,
    "jupyter": {
     "outputs_hidden": true
    },
    "tags": []
   },
   "outputs": [
    {
     "ename": "ValueError",
     "evalue": "list.remove(x): x not in list",
     "output_type": "error",
     "traceback": [
      "\u001b[1;31m---------------------------------------------------------------------------\u001b[0m",
      "\u001b[1;31mValueError\u001b[0m                                Traceback (most recent call last)",
      "\u001b[1;32mc:\\Users\\laura\\Desktop\\DS_PT_09_2023\\01-Ramp_Up\\02-Python\\01-Python\\3-Colecciones\\Teoria\\Colecciones.ipynb Cell 24\u001b[0m line \u001b[0;36m2\n\u001b[0;32m      <a href='vscode-notebook-cell:/c%3A/Users/laura/Desktop/DS_PT_09_2023/01-Ramp_Up/02-Python/01-Python/3-Colecciones/Teoria/Colecciones.ipynb#X32sZmlsZQ%3D%3D?line=0'>1</a>\u001b[0m cars \u001b[39m=\u001b[39m [\u001b[39m'\u001b[39m\u001b[39mVW\u001b[39m\u001b[39m'\u001b[39m, \u001b[39m'\u001b[39m\u001b[39mSeat\u001b[39m\u001b[39m'\u001b[39m, \u001b[39m'\u001b[39m\u001b[39mBMW\u001b[39m\u001b[39m'\u001b[39m, \u001b[39m'\u001b[39m\u001b[39mVW\u001b[39m\u001b[39m'\u001b[39m]\n\u001b[1;32m----> <a href='vscode-notebook-cell:/c%3A/Users/laura/Desktop/DS_PT_09_2023/01-Ramp_Up/02-Python/01-Python/3-Colecciones/Teoria/Colecciones.ipynb#X32sZmlsZQ%3D%3D?line=1'>2</a>\u001b[0m cars\u001b[39m.\u001b[39;49mremove(\u001b[39m\"\u001b[39;49m\u001b[39mAudi\u001b[39;49m\u001b[39m\"\u001b[39;49m)\n",
      "\u001b[1;31mValueError\u001b[0m: list.remove(x): x not in list"
     ]
    }
   ],
   "source": [
    "cars = ['VW', 'Seat', 'BMW', 'VW']\n",
    "cars.remove(\"Audi\")"
   ]
  },
  {
   "cell_type": "code",
   "execution_count": 4,
   "metadata": {},
   "outputs": [
    {
     "name": "stdout",
     "output_type": "stream",
     "text": [
      "['VW', 'Seat', 'BMW', 'VW']\n",
      "['Seat', 'BMW', 'VW']\n",
      "['BMW', 'VW']\n",
      "['VW']\n"
     ]
    },
    {
     "data": {
      "text/plain": [
       "[]"
      ]
     },
     "execution_count": 4,
     "metadata": {},
     "output_type": "execute_result"
    }
   ],
   "source": [
    "cars = ['VW', 'Seat', 'BMW', 'VW']\n",
    "\n",
    "for i in cars.copy():\n",
    "    print(cars)\n",
    "    cars.remove(i)\n",
    "\n",
    "cars"
   ]
  },
  {
   "cell_type": "code",
   "execution_count": 5,
   "metadata": {},
   "outputs": [
    {
     "name": "stdout",
     "output_type": "stream",
     "text": [
      "4\n",
      "3\n",
      "2\n",
      "1\n"
     ]
    },
    {
     "data": {
      "text/plain": [
       "[]"
      ]
     },
     "execution_count": 5,
     "metadata": {},
     "output_type": "execute_result"
    }
   ],
   "source": [
    "cars = ['VW', 'Seat', 'BMW', 'VW']\n",
    "\n",
    "for i in cars.copy():\n",
    "    print(len(cars))\n",
    "    cars.remove(i)\n",
    "\n",
    "cars"
   ]
  },
  {
   "cell_type": "markdown",
   "metadata": {},
   "source": [
    "No se peude modificar al lista miesntras iteras sobre ella. Con .copy() hago copias y trabajo sobre ellas."
   ]
  },
  {
   "cell_type": "markdown",
   "metadata": {},
   "source": [
    "### Métodos: ordenar, tamaño, invertir orden, ocurrencia\n",
    "En este apartado veremos los métodos más útiles, pero podrás consultar el resto en [este enlace](https://www.w3schools.com/python/python_ref_list.asp)"
   ]
  },
  {
   "cell_type": "code",
   "execution_count": 6,
   "metadata": {},
   "outputs": [
    {
     "name": "stdout",
     "output_type": "stream",
     "text": [
      "[22, 34, 15, 26, 18, 22]\n",
      "[15, 18, 22, 22, 26, 34]\n",
      "[22, 34, 15, 26, 18, 22]\n"
     ]
    }
   ],
   "source": [
    "degrees = [22, 34, 15, 26, 18, 22]\n",
    "print(degrees)\n",
    "print(sorted(degrees))\n",
    "print(degrees)"
   ]
  },
  {
   "cell_type": "code",
   "execution_count": 7,
   "metadata": {},
   "outputs": [
    {
     "name": "stdout",
     "output_type": "stream",
     "text": [
      "[22, 34, 15, 26, 18, 22]\n",
      "[15, 18, 22, 22, 26, 34]\n",
      "None\n",
      "[15, 18, 22, 22, 26, 34]\n",
      "None\n",
      "[34, 26, 22, 22, 18, 15]\n"
     ]
    },
    {
     "data": {
      "text/plain": [
       "2"
      ]
     },
     "execution_count": 7,
     "metadata": {},
     "output_type": "execute_result"
    }
   ],
   "source": [
    "degrees = [22, 34, 15, 26, 18, 22]\n",
    "print(degrees)\n",
    "\n",
    "# Ordenar\n",
    "print(sorted(degrees))\n",
    "print(degrees.sort())\n",
    "print(degrees)\n",
    "\n",
    "print(degrees.reverse())\n",
    "print(degrees)\n",
    "\n",
    "degrees.count(22)"
   ]
  },
  {
   "cell_type": "markdown",
   "metadata": {},
   "source": [
    "reverse no ordena, solo devuelve al reves\n"
   ]
  },
  {
   "cell_type": "markdown",
   "metadata": {},
   "source": [
    "<table align=\"left\">\n",
    " <tr><td width=\"80\"><img src=\"./img/error.png\" style=\"width:auto;height:auto\"></td>\n",
    "     <td style=\"text-align:left\">\n",
    "         <h3>ERRORES indice</h3>\n",
    "         \n",
    " </td></tr>\n",
    "</table>"
   ]
  },
  {
   "cell_type": "markdown",
   "metadata": {},
   "source": [
    "Mucho cuidado cuando accedemos a los elementos de la lista. Es un error muy habitual acceder a un índice que no existe en la lista.\n",
    "\n",
    "Si estamos accediendo al ultimo elemento, en vez de poner el numero de su indice, poner mejor `-1`, y asi evitamos errores"
   ]
  },
  {
   "cell_type": "markdown",
   "metadata": {},
   "source": [
    "Si tenemos este tipo de errores y no sabemos resolverlos, lo mejor es imprimir la longitud de la lista, y todos los elementos."
   ]
  },
  {
   "cell_type": "markdown",
   "metadata": {},
   "source": [
    "<table align=\"left\">\n",
    " <tr><td width=\"80\"><img src=\"./img/ejercicio.png\" style=\"width:auto;height:auto\"></td>\n",
    "     <td style=\"text-align:left\">\n",
    "         <h3>Ejercicio de listas</h3>\n",
    "\n",
    "Piensa en al menos 3 personas que invitarías a cenar\n",
    "<ol>\n",
    "    <li>Utiliza la lista de invitados para imprimir cada uno por pantalla, mediante un bucle</li>\n",
    "    <li>Ordena alfabeticamente tu lista de invitados</li>\n",
    "    <li>¿Quién es el primer invitado de la lista?</li>\n",
    "    <li>Te llama uno de ellos a última hora, que no va a poder asistir. Eliminalo de la lista</li>\n",
    "    <li>Por suerte te ha llamado un amigo que no iba a asistir y al final si puede. Añadelo a mitad de la lista</li>\n",
    "</ol>\n",
    "         \n",
    " </td></tr>\n",
    "</table>"
   ]
  },
  {
   "cell_type": "code",
   "execution_count": 8,
   "metadata": {},
   "outputs": [
    {
     "name": "stdout",
     "output_type": "stream",
     "text": [
      "Pepe\n",
      "Juan\n",
      "Maria\n",
      "['Juan', 'Maria', 'Pepe']\n",
      "Juan\n",
      "['Maria', 'Pepe']\n",
      "['Maria', 'Antonio', 'Pepe']\n"
     ]
    }
   ],
   "source": [
    "invitados = [\"Pepe\", \"Juan\", \"Maria\"]\n",
    "\n",
    "for i in invitados:\n",
    "    print(i)\n",
    "\n",
    "invitados = sorted(invitados)\n",
    "print(invitados)\n",
    "\n",
    "print(invitados[0])\n",
    "\n",
    "invitados.remove(\"Juan\")\n",
    "print(invitados)\n",
    "\n",
    "invitados.insert(int(len(invitados)/2), \"Antonio\")\n",
    "# busca la posicion media de la lista para insertar un nuevo elemento. auqnue sea impar, hemos dicho que se quede con el entero, asi que no habra problema\n",
    "print(invitados)\n"
   ]
  },
  {
   "cell_type": "code",
   "execution_count": null,
   "metadata": {},
   "outputs": [],
   "source": [
    "len(invitados)/2"
   ]
  },
  {
   "cell_type": "markdown",
   "metadata": {},
   "source": [
    "## 2. Tuplas\n",
    "Muy similares a las listas. Si en Notebooks anteriores definíamos a las listas como ordenadas y mutables, las tuplas son ordenadas e inmutables.\n",
    "\n",
    "* **Inmutables**: una vez creada la tupla con sus elementos iniciales, no se puede modificar\n",
    "* **Ordenadas**: podemos acceder a sus elementos a través del indice y reordenar la tupla según queramos\n",
    "\n",
    "Las tuplas se suelen usar para pequeñas colecciones de datos que no van a cambiar a lo largo del programa, como es el caso de las constantes.\n",
    "\n",
    "Si las listas se construían mediante corchetes `[]`, las tuplas lo hacen con los paréntesis `()`"
   ]
  },
  {
   "cell_type": "markdown",
   "metadata": {},
   "source": [
    "se pueden ordenar, PERO, se cambia a una lista. \n",
    "Ordenada significa que puedo acceder a ella a través del índice, no que la pueda ordenar.\n",
    "Los diccionarios no tienen índice (?comprobar)\n"
   ]
  },
  {
   "cell_type": "code",
   "execution_count": null,
   "metadata": {},
   "outputs": [],
   "source": [
    "primera_tupla = (3, \"text\")\n",
    "print(primera_tupla)\n",
    "print(type(primera_tupla))"
   ]
  },
  {
   "cell_type": "markdown",
   "metadata": {},
   "source": [
    "Los paréntesis ya se usan para reordenar operaciones `5 * (3 + 4)`, por lo que hay que añadir una coma cuando definamos una tupla con un único elemento, sino Python lo interpretará como un número."
   ]
  },
  {
   "cell_type": "code",
   "execution_count": 11,
   "metadata": {},
   "outputs": [
    {
     "name": "stdout",
     "output_type": "stream",
     "text": [
      "(1,)\n"
     ]
    },
    {
     "data": {
      "text/plain": [
       "tuple"
      ]
     },
     "execution_count": 11,
     "metadata": {},
     "output_type": "execute_result"
    }
   ],
   "source": [
    "a = (1,)\n",
    "print(a)\n",
    "type(a)"
   ]
  },
  {
   "cell_type": "code",
   "execution_count": null,
   "metadata": {},
   "outputs": [],
   "source": [
    "otra_tupla = (1,)\n",
    "print(otra_tupla)\n",
    "print(type(otra_tupla))"
   ]
  },
  {
   "cell_type": "code",
   "execution_count": null,
   "metadata": {
    "collapsed": true,
    "jupyter": {
     "outputs_hidden": true
    },
    "tags": []
   },
   "outputs": [],
   "source": [
    "tupla_anid = (1, 2, 3, (\"A\", \"B\", \"C\"))\n",
    "print(tupla_anid)\n",
    "\n",
    "print(tupla_anid[0])\n",
    "\n",
    "for i in tupla_anid:\n",
    "    print(i)\n",
    "    \n",
    "print(tupla_anid[0:2])\n",
    "\n",
    "print(len(tupla_anid))"
   ]
  },
  {
   "cell_type": "code",
   "execution_count": null,
   "metadata": {},
   "outputs": [],
   "source": [
    "tupla_anid = (1, 2, 3, (\"A\", \"B\", \"C\"))\n",
    "\n",
    "tupla_anid[3][0]"
   ]
  },
  {
   "cell_type": "markdown",
   "metadata": {},
   "source": [
    "<table align=\"left\">\n",
    " <tr><td width=\"80\"><img src=\"./img/error.png\" style=\"width:auto;height:auto\"></td>\n",
    "     <td style=\"text-align:left\">\n",
    "         <h3>ERRORES tuplas</h3>\n",
    "         \n",
    " </td></tr>\n",
    "</table>"
   ]
  },
  {
   "cell_type": "markdown",
   "metadata": {},
   "source": [
    "Cuidado que las tuplas son inmutables, y una vez creadas no las podrás modificar después"
   ]
  },
  {
   "cell_type": "code",
   "execution_count": null,
   "metadata": {
    "collapsed": true,
    "jupyter": {
     "outputs_hidden": true
    },
    "tags": []
   },
   "outputs": [],
   "source": [
    "tupla_error = (1,2,3)\n",
    "tupla_error[0] = 10"
   ]
  },
  {
   "cell_type": "code",
   "execution_count": null,
   "metadata": {},
   "outputs": [],
   "source": [
    "# Si queremos añadir elementos, podemos meterlos en otra tupla y sumarlas para que se concatenen\n",
    "tupla1 = (1,2,3)\n",
    "tupla2 = (4,5,6)\n",
    "\n",
    "print(tupla1 + tupla2)"
   ]
  },
  {
   "cell_type": "markdown",
   "metadata": {},
   "source": [
    "### Listas y tuplas\n",
    "Podemos combinar listas y tuplas que no tendremos ningún problema, siempre y cuando respetemos las propiedades de cada tipo de dato."
   ]
  },
  {
   "cell_type": "code",
   "execution_count": 12,
   "metadata": {},
   "outputs": [
    {
     "name": "stdout",
     "output_type": "stream",
     "text": [
      "Manzanas\n",
      "Fresas\n",
      "Naranjas\n"
     ]
    }
   ],
   "source": [
    "mi_tupla = (\"Naranjas\", \"Limones\")\n",
    "frutas = [\"Manzanas\", mi_tupla, \"Fresas\"]\n",
    "print(frutas[0])\n",
    "print(frutas[-1])\n",
    "print(frutas[1][0])"
   ]
  },
  {
   "cell_type": "code",
   "execution_count": 13,
   "metadata": {},
   "outputs": [
    {
     "name": "stdout",
     "output_type": "stream",
     "text": [
      "['Manzanas', ('Naranjas', 'Limones'), 'Fresas', 'Melocoton']\n"
     ]
    },
    {
     "ename": "AttributeError",
     "evalue": "'tuple' object has no attribute 'append'",
     "output_type": "error",
     "traceback": [
      "\u001b[1;31m---------------------------------------------------------------------------\u001b[0m",
      "\u001b[1;31mAttributeError\u001b[0m                            Traceback (most recent call last)",
      "\u001b[1;32mc:\\Users\\laura\\Desktop\\DS_PT_09_2023\\01-Ramp_Up\\02-Python\\01-Python\\3-Colecciones\\Teoria\\Colecciones.ipynb Cell 52\u001b[0m line \u001b[0;36m3\n\u001b[0;32m      <a href='vscode-notebook-cell:/c%3A/Users/laura/Desktop/DS_PT_09_2023/01-Ramp_Up/02-Python/01-Python/3-Colecciones/Teoria/Colecciones.ipynb#X61sZmlsZQ%3D%3D?line=0'>1</a>\u001b[0m frutas\u001b[39m.\u001b[39mappend(\u001b[39m\"\u001b[39m\u001b[39mMelocoton\u001b[39m\u001b[39m\"\u001b[39m)\n\u001b[0;32m      <a href='vscode-notebook-cell:/c%3A/Users/laura/Desktop/DS_PT_09_2023/01-Ramp_Up/02-Python/01-Python/3-Colecciones/Teoria/Colecciones.ipynb#X61sZmlsZQ%3D%3D?line=1'>2</a>\u001b[0m \u001b[39mprint\u001b[39m(frutas)\n\u001b[1;32m----> <a href='vscode-notebook-cell:/c%3A/Users/laura/Desktop/DS_PT_09_2023/01-Ramp_Up/02-Python/01-Python/3-Colecciones/Teoria/Colecciones.ipynb#X61sZmlsZQ%3D%3D?line=2'>3</a>\u001b[0m frutas[\u001b[39m1\u001b[39;49m]\u001b[39m.\u001b[39;49mappend(\u001b[39m\"\u001b[39m\u001b[39mOtro melocoton\u001b[39m\u001b[39m\"\u001b[39m)\n",
      "\u001b[1;31mAttributeError\u001b[0m: 'tuple' object has no attribute 'append'"
     ]
    }
   ],
   "source": [
    "frutas.append(\"Melocoton\")\n",
    "print(frutas)\n",
    "frutas[1].append(\"Otro melocoton\")"
   ]
  },
  {
   "cell_type": "markdown",
   "metadata": {},
   "source": [
    "<table align=\"left\">\n",
    " <tr><td width=\"80\"><img src=\"./img/ejercicio.png\" style=\"width:auto;height:auto\"></td>\n",
    "     <td style=\"text-align:left\">\n",
    "         <h3>Ejercicio de tuplas</h3>\n",
    "\n",
    "\n",
    "<ol>\n",
    "    <li>Crea una tupla con un único valor. Comprueba su tipo</li>\n",
    "    <li>Crea otra tupla con 3 elementos</li>\n",
    "    <li>Añadele (como puedas) a la primera tupla, los tres elementos de la segunda</li>\n",
    "    <li>Obtén una cuarta tupla a partir de los dos primeros valores de la tupla creada del apartado anterior</li>\n",
    "</ol>\n",
    "         \n",
    " </td></tr>\n",
    "</table>"
   ]
  },
  {
   "cell_type": "code",
   "execution_count": 14,
   "metadata": {},
   "outputs": [
    {
     "name": "stdout",
     "output_type": "stream",
     "text": [
      "(4,)\n",
      "<class 'tuple'>\n",
      "(5, 6, 7)\n",
      "<class 'tuple'>\n",
      "(4, 5, 6, 7)\n",
      "<class 'tuple'>\n",
      "(4, 5)\n",
      "<class 'tuple'>\n"
     ]
    }
   ],
   "source": [
    "tupla_1 = (4,)\n",
    "print(tupla_1)\n",
    "print(type(tupla_1))\n",
    "\n",
    "tupla_2 = (5, 6, 7)\n",
    "print(tupla_2)\n",
    "print(type(tupla_2))\n",
    "\n",
    "tupla_3 = tupla_1 + tupla_2\n",
    "print(tupla_3)\n",
    "print(type(tupla_3))\n",
    "\n",
    "tupla_4 = tupla_3[0:2]\n",
    "print(tupla_4)\n",
    "print(type(tupla_4))"
   ]
  },
  {
   "cell_type": "markdown",
   "metadata": {},
   "source": [
    "## 3. Diccionarios\n",
    "En este tipo de colecciones no solo podemos agrupar datos, sino que tenemos la posibilidad de establecer una relación entre los mismos, con la forma **clave: valor**.\n",
    "\n",
    "La sintaxis  es mediante llaves `{}`\n",
    "\n",
    "> nombre_diccionario = {clave1: valor1, clave2: valor2, clave3: valor3}\n",
    "\n",
    "Si veíamos que las listas son elementos mutables y y ordenadas, y las tuplas inmutables y ordenadas, los diccionarios son:\n",
    "\n",
    "* **Mutables**: podemos modificar sus elementos\n",
    "* **Desordenado**: la potencia de acceso de los diccionarios es su formato clave-valor, no su orden. Aun así, el dicionario conserva el orden de los elemento según los vamos insertando.\n",
    "\n",
    "Vamos a declarar un diccionario en el que definiremos elementos de un coche"
   ]
  },
  {
   "cell_type": "code",
   "execution_count": 16,
   "metadata": {},
   "outputs": [
    {
     "name": "stdout",
     "output_type": "stream",
     "text": [
      "{'color': 'Gris', 'marca': 'VW', 'peso': 1500, 'Cambio automatico': False}\n"
     ]
    }
   ],
   "source": [
    "\n",
    "coche = {\"color\": \"Gris\",\n",
    "        \"marca\": \"VW\",\n",
    "        \"peso\": 1500,\n",
    "        \"Cambio automatico\": True,\n",
    "        \"Cambio automatico\": False}\n",
    "# no pueden haber dos claves iguales, se queda la última/actualiza. \n",
    "# las claves son inmutables, habria que borrarla y hacerla de nuevo para modificar.\n",
    "coche\n",
    "print(coche)"
   ]
  },
  {
   "cell_type": "code",
   "execution_count": 23,
   "metadata": {},
   "outputs": [
    {
     "name": "stdout",
     "output_type": "stream",
     "text": [
      "<class 'dict'>\n"
     ]
    }
   ],
   "source": [
    "print(type(coche))"
   ]
  },
  {
   "cell_type": "code",
   "execution_count": 25,
   "metadata": {},
   "outputs": [
    {
     "ename": "KeyError",
     "evalue": "0",
     "output_type": "error",
     "traceback": [
      "\u001b[1;31m---------------------------------------------------------------------------\u001b[0m",
      "\u001b[1;31mKeyError\u001b[0m                                  Traceback (most recent call last)",
      "\u001b[1;32mc:\\Users\\laura\\Desktop\\DS_PT_09_2023\\01-Ramp_Up\\02-Python\\01-Python\\3-Colecciones\\Teoria\\Colecciones.ipynb Cell 58\u001b[0m line \u001b[0;36m1\n\u001b[1;32m----> <a href='vscode-notebook-cell:/c%3A/Users/laura/Desktop/DS_PT_09_2023/01-Ramp_Up/02-Python/01-Python/3-Colecciones/Teoria/Colecciones.ipynb#Y216sZmlsZQ%3D%3D?line=0'>1</a>\u001b[0m coche[\u001b[39m0\u001b[39;49m]\n",
      "\u001b[1;31mKeyError\u001b[0m: 0"
     ]
    }
   ],
   "source": [
    "coche[0]"
   ]
  },
  {
   "cell_type": "code",
   "execution_count": 27,
   "metadata": {},
   "outputs": [
    {
     "data": {
      "text/plain": [
       "{'color': 'Gris', 'marca': 'VW', 'peso': 1500, 'Cambio automatico': True}"
      ]
     },
     "execution_count": 27,
     "metadata": {},
     "output_type": "execute_result"
    }
   ],
   "source": [
    "coche['Cambio automatico'] = True\n",
    "coche"
   ]
  },
  {
   "cell_type": "markdown",
   "metadata": {},
   "source": [
    "se entra en el diccionario a través de las llaves. no es ordenado, ya que no se entra a través del indice. por lo que no podemos añadir cosas entre medio. siempre al final \n"
   ]
  },
  {
   "cell_type": "code",
   "execution_count": 28,
   "metadata": {},
   "outputs": [
    {
     "data": {
      "text/plain": [
       "{'color': 'Gris', 'marca': 'VW', 'peso': 1500, 'cambio au': True}"
      ]
     },
     "execution_count": 28,
     "metadata": {},
     "output_type": "execute_result"
    }
   ],
   "source": [
    "# para eliminar variables:\n",
    "del coche['Cambio automatico']\n",
    "coche['cambio au'] = True\n",
    "coche"
   ]
  },
  {
   "cell_type": "code",
   "execution_count": 35,
   "metadata": {},
   "outputs": [
    {
     "data": {
      "text/plain": [
       "dict_items([('marca', 'VW'), ('peso', 1500), ('cambio au', True)])"
      ]
     },
     "execution_count": 35,
     "metadata": {},
     "output_type": "execute_result"
    }
   ],
   "source": [
    "# fomra correcta para buscar las llaves en el diccionario, es más rapido que con corchetes. permite buscar la key en el dicc y devuelve le valor. Se puede poner un parametro adicional por si no se encuentra. funciona como busqueda por {}.\n",
    "coche.get('cambio au')\n",
    "coche.pop('color')\n",
    "# pop necesita la key para saber cual elimina. tambien guarda la variable eliminada temporalmente. devuelve esta variable \n",
    "coche.items()\n",
    "# items muesrta una lista con las tuplas donde estas son key value\n",
    "coche.update()\n",
    "# es la forma correcta de actulizar valores en el dicc. para modificar una llave\n",
    "\n",
    "coche.values()\n",
    "# devuelve los valores"
   ]
  },
  {
   "cell_type": "markdown",
   "metadata": {},
   "source": [
    "Se puede almacenar todo tipo de datos: numero, cadena, booleano, listas, tuplas, diccionarios...\n",
    "\n",
    "Cuando declaremos el diccionario, lo podemos hacer en una sola linea `coche = {\"color\"=\"Gris\", \"marca\"...}`, aunque se recomienda por sencillez a la hora de leer el código, realizar esta acción en varias líneas. Si escribimos el primer elemento y presionamos enter, Jupyter introduce automáticamente la tabulación."
   ]
  },
  {
   "cell_type": "markdown",
   "metadata": {},
   "source": [
    "### Acceso, modificación, añadir, eliminar"
   ]
  },
  {
   "cell_type": "code",
   "execution_count": 39,
   "metadata": {},
   "outputs": [
    {
     "name": "stdout",
     "output_type": "stream",
     "text": [
      "True\n",
      "{'marca': 'VW', 'peso': 1500, 'cambio au': True, 'color': 'Blanco'}\n",
      "{'marca': 'VW', 'peso': 1500, 'cambio au': True, 'color': 'Blanco', 'puertas': 4}\n",
      "{'marca': 'VW', 'peso': 1500, 'cambio au': True, 'color': 'Blanco'}\n"
     ]
    }
   ],
   "source": [
    "# Acceso\n",
    "print(coche['cambio au'])\n",
    "\n",
    "# Modificar\n",
    "coche['color'] = \"Blanco\"\n",
    "print(coche)\n",
    "\n",
    "# Añadir\n",
    "coche['puertas'] = 4\n",
    "print(coche)\n",
    "\n",
    "# Eliminar\n",
    "del coche['puertas']\n",
    "print(coche)"
   ]
  },
  {
   "cell_type": "code",
   "execution_count": 41,
   "metadata": {},
   "outputs": [
    {
     "name": "stdout",
     "output_type": "stream",
     "text": [
      "dict_keys(['marca', 'peso', 'cambio au', 'color'])\n",
      "dict_values(['VW', 1500, True, 'Blanco'])\n"
     ]
    }
   ],
   "source": [
    "print(coche.keys())\n",
    "print(coche.values())"
   ]
  },
  {
   "cell_type": "markdown",
   "metadata": {},
   "source": [
    "Para más detalle de los métodos de los diccionario puedes [consultar la documentación](https://www.w3schools.com/python/python_ref_dictionary.asp)"
   ]
  },
  {
   "cell_type": "code",
   "execution_count": 40,
   "metadata": {},
   "outputs": [
    {
     "name": "stdout",
     "output_type": "stream",
     "text": [
      "{'Direccion': 'Avenida...', 'Tamaño': 250}\n"
     ]
    }
   ],
   "source": [
    "# Podemos empezar tambien mediante un diccionario vacío\n",
    "tienda = {}\n",
    "tienda['Direccion'] = \"Avenida...\"\n",
    "tienda['Tamaño'] = 250\n",
    "print(tienda)"
   ]
  },
  {
   "cell_type": "markdown",
   "metadata": {},
   "source": [
    "<table align=\"left\">\n",
    " <tr><td width=\"80\"><img src=\"./img/error.png\" style=\"width:auto;height:auto\"></td>\n",
    "     <td style=\"text-align:left\">\n",
    "         <h3>ERRORES en diccionarios</h3>\n",
    "         \n",
    " </td></tr>\n",
    "</table>"
   ]
  },
  {
   "cell_type": "markdown",
   "metadata": {},
   "source": [
    "Si hay una clave que no existe en el diccionario, saltará un error.\n",
    "\n",
    "En este caso, el error es bastante intuitivo: `KeyError`, no encuentra la clave"
   ]
  },
  {
   "cell_type": "code",
   "execution_count": 42,
   "metadata": {},
   "outputs": [
    {
     "ename": "KeyError",
     "evalue": "'peso'",
     "output_type": "error",
     "traceback": [
      "\u001b[1;31m---------------------------------------------------------------------------\u001b[0m",
      "\u001b[1;31mKeyError\u001b[0m                                  Traceback (most recent call last)",
      "\u001b[1;32mc:\\Users\\laura\\Desktop\\DS_PT_09_2023\\01-Ramp_Up\\02-Python\\01-Python\\3-Colecciones\\Teoria\\Colecciones.ipynb Cell 71\u001b[0m line \u001b[0;36m3\n\u001b[0;32m      <a href='vscode-notebook-cell:/c%3A/Users/laura/Desktop/DS_PT_09_2023/01-Ramp_Up/02-Python/01-Python/3-Colecciones/Teoria/Colecciones.ipynb#Y112sZmlsZQ%3D%3D?line=0'>1</a>\u001b[0m coche \u001b[39m=\u001b[39m {\u001b[39m\"\u001b[39m\u001b[39mcolor\u001b[39m\u001b[39m\"\u001b[39m: \u001b[39m\"\u001b[39m\u001b[39mGris\u001b[39m\u001b[39m\"\u001b[39m,\n\u001b[0;32m      <a href='vscode-notebook-cell:/c%3A/Users/laura/Desktop/DS_PT_09_2023/01-Ramp_Up/02-Python/01-Python/3-Colecciones/Teoria/Colecciones.ipynb#Y112sZmlsZQ%3D%3D?line=1'>2</a>\u001b[0m         \u001b[39m\"\u001b[39m\u001b[39mmarca\u001b[39m\u001b[39m\"\u001b[39m: \u001b[39m\"\u001b[39m\u001b[39mVW\u001b[39m\u001b[39m\"\u001b[39m}\n\u001b[1;32m----> <a href='vscode-notebook-cell:/c%3A/Users/laura/Desktop/DS_PT_09_2023/01-Ramp_Up/02-Python/01-Python/3-Colecciones/Teoria/Colecciones.ipynb#Y112sZmlsZQ%3D%3D?line=2'>3</a>\u001b[0m coche[\u001b[39m\"\u001b[39;49m\u001b[39mpeso\u001b[39;49m\u001b[39m\"\u001b[39;49m]\n",
      "\u001b[1;31mKeyError\u001b[0m: 'peso'"
     ]
    }
   ],
   "source": [
    "coche = {\"color\": \"Gris\",\n",
    "        \"marca\": \"VW\"}\n",
    "coche[\"peso\"]"
   ]
  },
  {
   "cell_type": "markdown",
   "metadata": {},
   "source": [
    "**¿Cómo solventar esto?** Sirmpre tienes la opción de usar el bloque `try/except`, pero en este caso, los diccionarios tienen una solución más elegante: `get(clave, valor si no existe)`"
   ]
  },
  {
   "cell_type": "code",
   "execution_count": 45,
   "metadata": {},
   "outputs": [
    {
     "data": {
      "text/plain": [
       "'No hay peso'"
      ]
     },
     "execution_count": 45,
     "metadata": {},
     "output_type": "execute_result"
    }
   ],
   "source": [
    "a = coche.get(\"peso\", \"No hay peso\")\n",
    "# GET(VALOR BUSCADO, SI NO)\n",
    "a"
   ]
  },
  {
   "cell_type": "code",
   "execution_count": 44,
   "metadata": {},
   "outputs": [
    {
     "name": "stdout",
     "output_type": "stream",
     "text": [
      "No hay ruedas\n"
     ]
    }
   ],
   "source": [
    "a = coche.get(\"ruedas\", False)\n",
    "if a == False:\n",
    "    print(\"No hay ruedas\")"
   ]
  },
  {
   "cell_type": "markdown",
   "metadata": {},
   "source": [
    "### Iterar\n",
    "Que el diccionario no esté ordenado, no quiere decir que no podamos iterar sus elementos, ya que también es un **interable**, como los son las listas o las tuplas."
   ]
  },
  {
   "cell_type": "code",
   "execution_count": 46,
   "metadata": {},
   "outputs": [
    {
     "name": "stdout",
     "output_type": "stream",
     "text": [
      "color Gris\n",
      "marca VW\n"
     ]
    }
   ],
   "source": [
    "coche = {\"color\": \"Gris\",\n",
    "        \"marca\": \"VW\"}\n",
    "\n",
    "for i in coche:\n",
    "    print(i, coche[i])\n",
    "    # este codigo arriba itera sobre las keys\n",
    "    # para iterar sobre los vaores de un diccionario, coche.values en lugar de coche."
   ]
  },
  {
   "cell_type": "code",
   "execution_count": 47,
   "metadata": {},
   "outputs": [
    {
     "name": "stdout",
     "output_type": "stream",
     "text": [
      "color Gris\n",
      "marca VW\n"
     ]
    }
   ],
   "source": [
    "for clave, valor in coche.items():\n",
    "    print(clave, valor)"
   ]
  },
  {
   "cell_type": "markdown",
   "metadata": {},
   "source": [
    "<table align=\"left\">\n",
    " <tr><td width=\"80\"><img src=\"./img/ejercicio.png\" style=\"width:auto;height:auto\"></td>\n",
    "     <td style=\"text-align:left\">\n",
    "         <h3>Ejercicio de diccionarios</h3>\n",
    "\n",
    "\n",
    "<ol>\n",
    "    <li>Crea un diccionario con las caracteristicas de un televisor: tamaño, smarttv, marca...</li>\n",
    "    <li>Añade otra catacteristica del tv</li>\n",
    "    <li>Modifica una de ellas</li>\n",
    "    <li>Imprime por pantalla sus claves, valores e items</li>\n",
    "</ol>\n",
    "         \n",
    " </td></tr>\n",
    "</table>"
   ]
  },
  {
   "cell_type": "code",
   "execution_count": 2,
   "metadata": {},
   "outputs": [
    {
     "name": "stdout",
     "output_type": "stream",
     "text": [
      "{'tamaño': 50, 'smarttv': True, 'marca': 'Samsung'}\n",
      "{'tamaño': 50, 'smarttv': True, 'marca': 'Samsung', 'precio': 1000}\n",
      "{'tamaño': 55, 'smarttv': True, 'marca': 'Samsung', 'precio': 1000}\n",
      "dict_keys(['tamaño', 'smarttv', 'marca', 'precio'])\n",
      "dict_values([55, True, 'Samsung', 1000])\n",
      "dict_items([('tamaño', 55), ('smarttv', True), ('marca', 'Samsung'), ('precio', 1000)])\n"
     ]
    }
   ],
   "source": [
    "tv = {\"tamaño\": 50, \"smarttv\": True, \"marca\": \"Samsung\"}\n",
    "print(tv)\n",
    "\n",
    "tv['precio'] = 1000\n",
    "print(tv)\n",
    "\n",
    "tv[\"tamaño\"] = 55\n",
    "print(tv)\n",
    "\n",
    "print(tv.keys())\n",
    "print(tv.values())\n",
    "print(tv.items())"
   ]
  },
  {
   "cell_type": "markdown",
   "metadata": {},
   "source": [
    "## 4. Sets\n",
    "Otra colección *bulit-in* de Python, compuesta por un conjunto de *claves*. Muy parecidos a los diccionarios. Tienen las siguientes características:\n",
    "* **Mutables**: podemos modificarlos una vez se hayan creado\n",
    "* **No ordenado**\n",
    "* **Elementos unicos**: se compone de un conjunto de claves únicas\n",
    "\n",
    "**¿Cuándo usar sets?** Cuando estemos buscando unicidad en nuestros datos y no nos importe el orden.\n",
    "\n",
    "Te dejo por aquí [la documentación](https://docs.python.org/2/library/sets.html) para realizar consultas sobre los sets\n",
    "\n",
    "Su sintaxis es:\n",
    ">```Python\n",
    "> mi_set = {elemento1, elemento2, elemento3}\n",
    ">```\n",
    "\n",
    "Tiene una sintaxis muy parecida a la de los diccionarios, pero en este caso no se utilizan los `:`. "
   ]
  },
  {
   "cell_type": "code",
   "execution_count": null,
   "metadata": {},
   "outputs": [],
   "source": [
    "colores = {\"rojo\", \"azul\", \"blanco\"}\n",
    "print(colores)\n",
    "\n",
    "colores2 = {\"rojo\", \"azul\", \"blanco\", \"rojo\"}\n",
    "print(colores2)\n",
    "\n",
    "len(colores2)"
   ]
  },
  {
   "cell_type": "markdown",
   "metadata": {},
   "source": [
    "Los elementos del set son unicos, por lo que si en la declaración, o posteriormente añadiendo elementos hubiese algún duplicado, el set lo ignoraría. Es más, cuando aplicas el `len`, muestra la cantidad de valores únicos que tiene."
   ]
  },
  {
   "cell_type": "code",
   "execution_count": null,
   "metadata": {
    "collapsed": true,
    "jupyter": {
     "outputs_hidden": true
    },
    "tags": []
   },
   "outputs": [],
   "source": [
    "dias = {'dia', 4}\n",
    "print(dias)\n",
    "\n",
    "dias = set()\n",
    "dias.add(\"Lunes\")\n",
    "dias.add(\"Martes\")\n",
    "print(dias)\n",
    "\n",
    "dias.remove(\"Martes\")\n",
    "print(dias)\n",
    "\n",
    "print(\"Lunes\" in dias)\n",
    "print(\"Viernes\" not in dias)\n",
    "\n",
    "for i in dias:\n",
    "    print(i)"
   ]
  },
  {
   "cell_type": "markdown",
   "metadata": {},
   "source": [
    "Para comprobar si dos sets tienen los mismos elementos"
   ]
  },
  {
   "cell_type": "code",
   "execution_count": null,
   "metadata": {},
   "outputs": [],
   "source": [
    "set1 = {4,1,3,5,1,7,6,1,3}\n",
    "set2 = {5,1,3,7,6}\n",
    "\n",
    "set1 == set2"
   ]
  },
  {
   "cell_type": "code",
   "execution_count": null,
   "metadata": {},
   "outputs": [],
   "source": [
    "print(set1)\n",
    "print(set2)"
   ]
  },
  {
   "cell_type": "code",
   "execution_count": null,
   "metadata": {},
   "outputs": [],
   "source": [
    "set1 = {1,3,5,1,7,6,1,3}\n",
    "set2 = {5,1,3,10}\n",
    "\n",
    "print(set1)\n",
    "print(set2)\n",
    "\n",
    "print(set1 & set2)\n",
    "print(set1 | set2)\n",
    "print(set1 - set2)\n",
    "print(set2 - set1)"
   ]
  },
  {
   "cell_type": "markdown",
   "metadata": {},
   "source": [
    "## 5. Conversiones entre colecciones\n",
    "\n",
    "### De lista"
   ]
  },
  {
   "cell_type": "code",
   "execution_count": null,
   "metadata": {
    "collapsed": true,
    "jupyter": {
     "outputs_hidden": true
    },
    "tags": []
   },
   "outputs": [],
   "source": [
    "list_1 = [1,2,3,3,3,3,3,3,3]\n",
    "print(list_1)\n",
    "\n",
    "# A tupla\n",
    "tuple_1 = tuple(list_1)\n",
    "print(tuple_1)\n",
    "\n",
    "# A set\n",
    "print(set(list_1))"
   ]
  },
  {
   "cell_type": "markdown",
   "metadata": {},
   "source": [
    "### De Tupla"
   ]
  },
  {
   "cell_type": "code",
   "execution_count": null,
   "metadata": {},
   "outputs": [],
   "source": [
    "tupla_1 = (1,2,3)\n",
    "print(tupla_1)\n",
    "\n",
    "# A lista\n",
    "print(list(tupla_1))\n",
    "\n",
    "# A set\n",
    "print(set(tupla_1))\n",
    "\n",
    "# A diccionario\n",
    "lista_tuplas = [(\"Ciudad\", \"Madrid\"), (\"Tiempo\", \"nublado\")]\n",
    "print(dict(lista_tuplas))"
   ]
  },
  {
   "cell_type": "markdown",
   "metadata": {},
   "source": [
    "### De diccionario"
   ]
  },
  {
   "cell_type": "code",
   "execution_count": null,
   "metadata": {
    "collapsed": true,
    "jupyter": {
     "outputs_hidden": true
    },
    "tags": []
   },
   "outputs": [],
   "source": [
    "tupla_dict = [(\"Ciudad\", \"Madrid\"), (\"Tiempo\", \"nublado\")]\n",
    "dict_1 = dict(tupla_dict)\n",
    "print(dict_1)\n",
    "\n",
    "# A lista\n",
    "print(list(dict_1))\n",
    "\n",
    "# A tupla\n",
    "print(tuple(dict_1))\n",
    "\n",
    "# A set\n",
    "print(set(dict_1))"
   ]
  },
  {
   "cell_type": "code",
   "execution_count": null,
   "metadata": {},
   "outputs": [],
   "source": [
    "mi_list = []\n",
    "\n",
    "for clave, valor in dict_1.items():\n",
    "    mi_list.append(clave)\n",
    "    mi_list.append(valor)\n",
    "\n",
    "mi_list\n"
   ]
  },
  {
   "cell_type": "code",
   "execution_count": null,
   "metadata": {
    "collapsed": true,
    "jupyter": {
     "outputs_hidden": true
    },
    "tags": []
   },
   "outputs": [],
   "source": [
    "for i in dict_1:\n",
    "    print(i)\n",
    "for i in dict_1.keys():\n",
    "    print(i)\n",
    "for i in list(dict_1):\n",
    "    print(i)"
   ]
  },
  {
   "cell_type": "markdown",
   "metadata": {},
   "source": [
    "Se queda únicamente con las claves, y perdemos los valores. Para no perder la informacion:"
   ]
  },
  {
   "cell_type": "code",
   "execution_count": null,
   "metadata": {
    "collapsed": true,
    "jupyter": {
     "outputs_hidden": true
    },
    "tags": []
   },
   "outputs": [],
   "source": [
    "print(dict_1.keys())\n",
    "print(dict_1.values())\n",
    "print(dict_1.items())"
   ]
  },
  {
   "cell_type": "markdown",
   "metadata": {},
   "source": [
    "### De Set"
   ]
  },
  {
   "cell_type": "code",
   "execution_count": null,
   "metadata": {
    "collapsed": true,
    "jupyter": {
     "outputs_hidden": true
    },
    "tags": []
   },
   "outputs": [],
   "source": [
    "set_1 = {1,2,3}\n",
    "print(set_1)\n",
    "\n",
    "print(list(set_1))\n",
    "print(tuple(set_1))"
   ]
  },
  {
   "cell_type": "markdown",
   "metadata": {},
   "source": [
    "<table align=\"left\">\n",
    " <tr><td width=\"80\"><img src=\"./img/error.png\" style=\"width:auto;height:auto\"></td>\n",
    "     <td style=\"text-align:left\">\n",
    "         <h3>ERRORES en conversiones</h3>\n",
    "         \n",
    " </td></tr>\n",
    "</table>"
   ]
  },
  {
   "cell_type": "markdown",
   "metadata": {},
   "source": [
    "El diccionario suele dar problemas cuando intentamos realizar conversiones entre colecciones, ya que es la estrutura más compleja."
   ]
  },
  {
   "cell_type": "code",
   "execution_count": null,
   "metadata": {},
   "outputs": [],
   "source": [
    "mi_tupla = (1,2,3)\n",
    "dict(mi_tupla)"
   ]
  },
  {
   "cell_type": "markdown",
   "metadata": {},
   "source": [
    "## 6. Comprensión de listas\n",
    "\n",
    "Las listas pueden crearse también por comprensión (en inglés, *comprehension*). Esto tiene mucha relación con la definición de conjuntos por comprensión de las matemáticas. Sea por ejemplo, en matemáticas esta expresión:\n",
    "$$ S = \\{x^2 |\\ x \\in [3, 7), x \\  impar\\}$$\n",
    "Esta expresión define un conjunto $ S = \\{9, 25\\}$, puesto que el intervalo es abierto por la derecha, con lo que solo comprende los números 3, 4, 5 y 6, pero la condición dice que solo tengamos en cuenta los impares, es decir, 3 y 5, y la expresión del principio dice que tomemos los cuadrados. Recordando que para saber si un número es par o impar usamos en Python el operador módulo (`%`), esto se puede escribir (definiendo una lista `s` en lugar de un conjunto) como:"
   ]
  },
  {
   "cell_type": "code",
   "execution_count": null,
   "metadata": {},
   "outputs": [],
   "source": [
    "list_comp = [x**2 for x in range(3, 7) if x % 2 == 1]\n",
    "print(list_comp)"
   ]
  },
  {
   "cell_type": "code",
   "execution_count": null,
   "metadata": {},
   "outputs": [],
   "source": [
    "list_comp = []\n",
    "for x in range(3, 7):\n",
    "    if x % 2 == 1:\n",
    "        list_comp.append(x**2)"
   ]
  },
  {
   "cell_type": "markdown",
   "metadata": {},
   "source": [
    "Si tenemos un trozo de código que define una lista de este tipo:\n",
    "``` python\n",
    "nueva_lista = []\n",
    "for e in vieja_lista:\n",
    "    if filtro(e):\n",
    "        nueva_lista.append(transformacion(e))\n",
    "```\n",
    "Se puede escribir, usando comprensión, como:\n",
    "```python\n",
    "nueva_lista = [transformacion(e) for e in vieja_lista if filtro(e)]\n",
    "```\n",
    "\n",
    "La definición de listas por comprensión es muy cómoda, compacta y expresiva. No obstante, no debemos abusar de ella; si la expresión que escribimos es muy compleja se puede volver muy difícil de leer. En ese caso sería preferible la definición \"clásica\" de la lista.\n",
    "\n",
    "Vamos a ver esto con un ejemplo. Supongamos una lista de `edades`, de la que queremos obtener una nueva lista, `mayores_edad` con las que sean mayores o iguales que 21. Escribiríamos:"
   ]
  },
  {
   "cell_type": "code",
   "execution_count": null,
   "metadata": {},
   "outputs": [],
   "source": [
    "edades = [19, 20, 18, 21, 19, 25]\n",
    "print(edades)\n",
    "mayores_edad = [x for x in edades if x >= 21]\n",
    "print(mayores_edad)"
   ]
  },
  {
   "cell_type": "markdown",
   "metadata": {},
   "source": [
    "<table align=\"left\">\n",
    " <tr><td width=\"80\"><img src=\"./img/ejercicio.png\" style=\"width:auto;height:auto\"></td>\n",
    "     <td style=\"text-align:left\">\n",
    "         <h3>Ejercicio list comprehension</h3>\n",
    "\n",
    "Prueba a definir una lista temperaturas_menores, a partir de la lista temperaturas, con las temperaturas menores que 27 grados.\n",
    "         \n",
    "         temperaturas = [25.2, 24.9, 25.2, 26.7, 28.6, 29.5, 29.7]\n",
    "         \n",
    " </td></tr>\n",
    "</table>"
   ]
  },
  {
   "cell_type": "code",
   "execution_count": null,
   "metadata": {},
   "outputs": [],
   "source": [
    "temperaturas = [25.2, 24.9, 25.2, 26.7, 28.6, 29.5, 29.7]\n",
    "\n",
    "temperaturas_menores = [x for x in temperaturas if x < 27]\n",
    "temperaturas_menores"
   ]
  },
  {
   "cell_type": "markdown",
   "metadata": {},
   "source": [
    "## 7. Resumen"
   ]
  },
  {
   "cell_type": "code",
   "execution_count": null,
   "metadata": {},
   "outputs": [],
   "source": [
    "# Listas\n",
    "print(\"Listas\")\n",
    "nums = [6, 2, 8, 3, 4, 5, 5]\n",
    "\n",
    "# Tamaño\n",
    "print(len(nums))\n",
    "\n",
    "# Acceso\n",
    "print(nums[2])\n",
    "print(nums[-1])\n",
    "\n",
    "# Acceso por indice\n",
    "print(nums.index(5))\n",
    "nums.append('numeros')\n",
    "print(nums)\n",
    "\n",
    "# Eliminar\n",
    "nums.remove(\"numeros\")\n",
    "print(nums)\n",
    "\n",
    "# Ordenar\n",
    "nums.sort()\n",
    "print(nums)\n",
    "\n",
    "# Tamaño de la lista\n",
    "print(len(nums))\n",
    "\n",
    "# Invertir el orden\n",
    "nums.reverse()\n",
    "print(nums)\n",
    "\n",
    "# Ocurrencia de un valor\n",
    "print(nums.count(22))"
   ]
  },
  {
   "cell_type": "code",
   "execution_count": null,
   "metadata": {},
   "outputs": [],
   "source": [
    "# Tuplas\n",
    "primera_tupla = (3, \"text\")\n",
    "\n",
    "# Anidacion de tuplas\n",
    "tupla_anid = (1, 2, 3, (\"A\", \"B\", \"C\"))\n",
    "print(tupla_anid)\n",
    "\n",
    "# El acceso es como en las listas\n",
    "print(tupla_anid[0])\n",
    "\n",
    "# Tambien son elementos iterables\n",
    "for i in tupla_anid:\n",
    "    print(i)\n",
    "    \n",
    "# El slicing también funciona igual\n",
    "print(tupla_anid[0:2])\n",
    "\n",
    "# Longitud de la tupla\n",
    "print(len(tupla_anid))"
   ]
  },
  {
   "cell_type": "code",
   "execution_count": null,
   "metadata": {},
   "outputs": [],
   "source": [
    "# Diccionario\n",
    "coche = {\"color\": \"Gris\",\n",
    "        \"marca\": \"VW\",\n",
    "        \"peso\": 1500,\n",
    "        \"Cambio automatico\": True}\n",
    "\n",
    "print(coche)\n",
    "\n",
    "coche = {\"color\": \"Gris\",\n",
    "        \"marca\": \"VW\"\n",
    "        }\n",
    "\n",
    "for i in coche: # Esta recorriendo las claves\n",
    "    print(i) # Imprimimos la clave\n",
    "    print(coche[i]) # Imprimimos el valor\n",
    "    \n",
    "# Otra menera de recorrer los elementos\n",
    "for clave, valor in coche.items():\n",
    "    print(clave, valor)"
   ]
  },
  {
   "cell_type": "code",
   "execution_count": null,
   "metadata": {},
   "outputs": [],
   "source": [
    "# Sets\n",
    "colores = {\"rojo\", \"azul\", \"blanco\"}\n",
    "print(colores)\n",
    "\n",
    "# Mira lo que ocurre cuando ponemos duplicados\n",
    "colores2 = {\"rojo\", \"azul\", \"blanco\", \"rojo\"}\n",
    "print(colores2)\n",
    "\n",
    "# El len tambien funciona aqui\n",
    "len(colores2)\n",
    "\n",
    "# Crear un set vacio. No se crea con {}, ya que si no, sería un diccionario.\n",
    "dias = set()\n",
    "print(dias)\n",
    "\n",
    "# Añadir elementos\n",
    "dias.add(\"Lunes\")\n",
    "dias.add(\"Martes\")\n",
    "dias.add(\"Miercoles\")\n",
    "print(dias)\n",
    "\n",
    "# Eliminar elementos\n",
    "dias.remove(\"Miercoles\")\n",
    "print(dias)\n",
    "\n",
    "# Buscar elementos\n",
    "print(\"Lunes\" in dias)\n",
    "print(\"Viernes\" not in dias)\n",
    "\n",
    "# Tambien es un iterable\n",
    "for i in dias:\n",
    "    print(i)"
   ]
  }
 ],
 "metadata": {
  "kernelspec": {
   "display_name": "Python 3",
   "language": "python",
   "name": "python3"
  },
  "language_info": {
   "codemirror_mode": {
    "name": "ipython",
    "version": 3
   },
   "file_extension": ".py",
   "mimetype": "text/x-python",
   "name": "python",
   "nbconvert_exporter": "python",
   "pygments_lexer": "ipython3",
   "version": "3.11.5"
  },
  "nbTranslate": {
   "displayLangs": [
    "*"
   ],
   "hotkey": "alt-t",
   "langInMainMenu": true,
   "sourceLang": "en",
   "targetLang": "fr",
   "useGoogleTranslate": true
  },
  "varInspector": {
   "cols": {
    "lenName": 16,
    "lenType": 16,
    "lenVar": 40
   },
   "kernels_config": {
    "python": {
     "delete_cmd_postfix": "",
     "delete_cmd_prefix": "del ",
     "library": "var_list.py",
     "varRefreshCmd": "print(var_dic_list())"
    },
    "r": {
     "delete_cmd_postfix": ") ",
     "delete_cmd_prefix": "rm(",
     "library": "var_list.r",
     "varRefreshCmd": "cat(var_dic_list()) "
    }
   },
   "types_to_exclude": [
    "module",
    "function",
    "builtin_function_or_method",
    "instance",
    "_Feature"
   ],
   "window_display": false
  }
 },
 "nbformat": 4,
 "nbformat_minor": 4
}
