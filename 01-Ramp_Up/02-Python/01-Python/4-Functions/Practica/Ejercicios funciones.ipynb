{
 "cells": [
  {
   "cell_type": "markdown",
   "metadata": {},
   "source": [
    "![imagen](./img/ejercicios.png)"
   ]
  },
  {
   "cell_type": "markdown",
   "metadata": {},
   "source": [
    "# Ejercicios funciones\n",
    "## Ejercicio 1\n",
    "Escribe una función que convierta números del 1 al 7 en nombres de los dias de la semana. La función constará de un único argumento numérico y una salida de tipo string"
   ]
  },
  {
   "cell_type": "code",
   "execution_count": null,
   "metadata": {},
   "outputs": [],
   "source": [
    "\n",
    "\n",
    "def dia_semana(numeros) -> str:\n",
    "    diccionario = {1 : 'Lunes', 2 : 'Mrtes', 3 : 'Lunes'1 : 'Lunes'1 : 'Lunes'1 : 'Lunes'1 : 'Lunes'}\n",
    "   \n",
    "    if dia_num in diccionario:\n",
    "         return diccionario[dia_num]\n",
    "    "
   ]
  },
  {
   "cell_type": "code",
   "execution_count": 4,
   "metadata": {},
   "outputs": [
    {
     "data": {
      "text/plain": [
       "'eso no existe'"
      ]
     },
     "execution_count": 4,
     "metadata": {},
     "output_type": "execute_result"
    }
   ],
   "source": [
    "\n",
    "def dia_semana(dia_num):\n",
    "    diccionario = {1 : 'Lunes', 2 : 'Martes', 3 : 'Miércoles', 4 : 'Jueves', 5 : 'Viernes', 6 : 'Sabado', 7 : 'Domingo'}\n",
    "\n",
    "    return diccionario.get(dia_num, 'eso no existe')\n",
    "\n",
    "dia_semana(50)"
   ]
  },
  {
   "cell_type": "code",
   "execution_count": 5,
   "metadata": {},
   "outputs": [],
   "source": [
    "def dia_semana(dia_num):\n",
    "    num = list(range(1,8))\n",
    "    dia = ['lunes', ]\n",
    "    dicc = (zip(num, dia))\n",
    "return dict.get()"
   ]
  },
  {
   "cell_type": "code",
   "execution_count": null,
   "metadata": {},
   "outputs": [],
   "source": []
  },
  {
   "cell_type": "markdown",
   "metadata": {},
   "source": [
    "## Ejercicio 2\n",
    "En el ejercicio 8 de bucles, creábamos una pirámide invertida, cuyo número de pisos venía determinado por un input del usuario. Crea una función que replique el comportamiento de la pirámide, y utiliza un único parámetro de entrada de la función para determinar el número de filas de la pirámide, es decir, elimina la sentencia input."
   ]
  },
  {
   "cell_type": "code",
   "execution_count": 6,
   "metadata": {},
   "outputs": [
    {
     "name": "stdout",
     "output_type": "stream",
     "text": [
      "5 4 3 2 1\n",
      "4 3 2 1\n",
      "3 2 1\n",
      "2 1\n",
      "1\n"
     ]
    }
   ],
   "source": [
    "enumeracion = list(range(5,0,-1))\n",
    "while len(enumeracion) > 0:\n",
    "    print(*enumeracion)\n",
    "    enumeracion.pop(0)\n",
    "    "
   ]
  },
  {
   "cell_type": "code",
   "execution_count": null,
   "metadata": {},
   "outputs": [],
   "source": [
    "# no está hecho para un numero cualquiera(lo anterior)"
   ]
  },
  {
   "cell_type": "markdown",
   "metadata": {},
   "source": [
    "## Ejercicio 3\n",
    "Escibe una función que compare dos números. La función tiene dos argumentos y hay tres salidas posibles: que sean iguales, que el primero se  mayor que el segundo, o que el segundo sea mayor que el primero"
   ]
  },
  {
   "cell_type": "code",
   "execution_count": 8,
   "metadata": {},
   "outputs": [
    {
     "name": "stdout",
     "output_type": "stream",
     "text": [
      "El número 1 es mayor que el número 2\n"
     ]
    }
   ],
   "source": [
    "def comparacion(num1:float,num2:float) -> str:\n",
    "    if num1 == num2:\n",
    "        return print(\"Los números son iguales\")\n",
    "    elif num1 < num2:\n",
    "        return print(\"El número 2 ees mayor que el número 1\")\n",
    "    else: \n",
    "        return print(\"El número 1 es mayor que el número 2\")\n",
    "    \n",
    "comparacion(5,4)"
   ]
  },
  {
   "cell_type": "code",
   "execution_count": 11,
   "metadata": {},
   "outputs": [
    {
     "ename": "TypeError",
     "evalue": "'<' not supported between instances of 'str' and 'int'",
     "output_type": "error",
     "traceback": [
      "\u001b[1;31m---------------------------------------------------------------------------\u001b[0m",
      "\u001b[1;31mTypeError\u001b[0m                                 Traceback (most recent call last)",
      "\u001b[1;32mc:\\Users\\laura\\Desktop\\DS_PT_09_2023\\01-Ramp_Up\\02-Python\\01-Python\\4-Functions\\Practica\\Ejercicios funciones.ipynb Cell 12\u001b[0m line \u001b[0;36m1\n\u001b[1;32m----> <a href='vscode-notebook-cell:/c%3A/Users/laura/Desktop/DS_PT_09_2023/01-Ramp_Up/02-Python/01-Python/4-Functions/Practica/Ejercicios%20funciones.ipynb#X14sZmlsZQ%3D%3D?line=0'>1</a>\u001b[0m comparacion(\u001b[39m'\u001b[39;49m\u001b[39m3.5\u001b[39;49m\u001b[39m'\u001b[39;49m,\u001b[39m3\u001b[39;49m)\n",
      "\u001b[1;32mc:\\Users\\laura\\Desktop\\DS_PT_09_2023\\01-Ramp_Up\\02-Python\\01-Python\\4-Functions\\Practica\\Ejercicios funciones.ipynb Cell 12\u001b[0m line \u001b[0;36m4\n\u001b[0;32m      <a href='vscode-notebook-cell:/c%3A/Users/laura/Desktop/DS_PT_09_2023/01-Ramp_Up/02-Python/01-Python/4-Functions/Practica/Ejercicios%20funciones.ipynb#X14sZmlsZQ%3D%3D?line=1'>2</a>\u001b[0m \u001b[39mif\u001b[39;00m num1 \u001b[39m==\u001b[39m num2:\n\u001b[0;32m      <a href='vscode-notebook-cell:/c%3A/Users/laura/Desktop/DS_PT_09_2023/01-Ramp_Up/02-Python/01-Python/4-Functions/Practica/Ejercicios%20funciones.ipynb#X14sZmlsZQ%3D%3D?line=2'>3</a>\u001b[0m     \u001b[39mreturn\u001b[39;00m \u001b[39mprint\u001b[39m(\u001b[39m\"\u001b[39m\u001b[39mLos números son iguales\u001b[39m\u001b[39m\"\u001b[39m)\n\u001b[1;32m----> <a href='vscode-notebook-cell:/c%3A/Users/laura/Desktop/DS_PT_09_2023/01-Ramp_Up/02-Python/01-Python/4-Functions/Practica/Ejercicios%20funciones.ipynb#X14sZmlsZQ%3D%3D?line=3'>4</a>\u001b[0m \u001b[39melif\u001b[39;00m num1 \u001b[39m<\u001b[39;49m num2:\n\u001b[0;32m      <a href='vscode-notebook-cell:/c%3A/Users/laura/Desktop/DS_PT_09_2023/01-Ramp_Up/02-Python/01-Python/4-Functions/Practica/Ejercicios%20funciones.ipynb#X14sZmlsZQ%3D%3D?line=4'>5</a>\u001b[0m     \u001b[39mreturn\u001b[39;00m \u001b[39mprint\u001b[39m(\u001b[39m\"\u001b[39m\u001b[39mEl número 2 ees mayor que el número 1\u001b[39m\u001b[39m\"\u001b[39m)\n\u001b[0;32m      <a href='vscode-notebook-cell:/c%3A/Users/laura/Desktop/DS_PT_09_2023/01-Ramp_Up/02-Python/01-Python/4-Functions/Practica/Ejercicios%20funciones.ipynb#X14sZmlsZQ%3D%3D?line=5'>6</a>\u001b[0m \u001b[39melse\u001b[39;00m: \n",
      "\u001b[1;31mTypeError\u001b[0m: '<' not supported between instances of 'str' and 'int'"
     ]
    }
   ],
   "source": [
    "# hay que crear variables y hacer que pasen a float para que si meten string no falle\n",
    "comparacion('3.5',3)"
   ]
  },
  {
   "cell_type": "code",
   "execution_count": null,
   "metadata": {},
   "outputs": [],
   "source": []
  },
  {
   "cell_type": "code",
   "execution_count": null,
   "metadata": {},
   "outputs": [],
   "source": []
  },
  {
   "cell_type": "markdown",
   "metadata": {},
   "source": [
    "## Ejercicio 4\n",
    "Escribe una función que sea un contador de letras. En el primer argumento tienes que introducir un texto, y el segundo que sea la letra a contar. La función tiene que devolver un entero con el número de veces que aparece esa letra, tanto mayuscula, como minúscula"
   ]
  },
  {
   "cell_type": "code",
   "execution_count": 12,
   "metadata": {},
   "outputs": [],
   "source": [
    "def contador(text: str, letra:str) -> int:\n",
    "    \n",
    "    return print(text.casefold().count(letra)) "
   ]
  },
  {
   "cell_type": "code",
   "execution_count": 14,
   "metadata": {},
   "outputs": [
    {
     "name": "stdout",
     "output_type": "stream",
     "text": [
      "0\n"
     ]
    }
   ],
   "source": [
    "contador(\"ESTERNOCLEIDOMASTOIDEO\",\"C\")"
   ]
  },
  {
   "cell_type": "markdown",
   "metadata": {},
   "source": [
    "no funcniona la anterior \n"
   ]
  },
  {
   "cell_type": "code",
   "execution_count": null,
   "metadata": {},
   "outputs": [],
   "source": []
  },
  {
   "cell_type": "markdown",
   "metadata": {},
   "source": [
    "## Ejercicio 5\n",
    "Escribe una función que tenga un único argumento, un string. La salida de la función tiene que ser un diccionario con el conteo de todas las letras de ese string."
   ]
  },
  {
   "cell_type": "code",
   "execution_count": 30,
   "metadata": {},
   "outputs": [],
   "source": [
    "def cuenta_letras(palabra: str) -> dict:\n",
    "    contador = {\"letras\" : len(palabra)}\n",
    "    return contador\n"
   ]
  },
  {
   "cell_type": "code",
   "execution_count": 31,
   "metadata": {},
   "outputs": [
    {
     "data": {
      "text/plain": [
       "{'letras': 4}"
      ]
     },
     "execution_count": 31,
     "metadata": {},
     "output_type": "execute_result"
    }
   ],
   "source": [
    "cuenta_letras(\"hola\")"
   ]
  },
  {
   "cell_type": "code",
   "execution_count": null,
   "metadata": {},
   "outputs": [],
   "source": []
  },
  {
   "cell_type": "code",
   "execution_count": null,
   "metadata": {},
   "outputs": [],
   "source": []
  },
  {
   "cell_type": "markdown",
   "metadata": {},
   "source": [
    "## Ejercicio 6\n",
    "Escribir una función que añada o elimine elementos en una lista. La función necesita los siguientes argumentos:\n",
    "* lista: la lista donde se añadirán o eliminarán los elementos\n",
    "* comando: \"add\" o \"remove\"\n",
    "* elemento: Por defecto es None."
   ]
  },
  {
   "cell_type": "code",
   "execution_count": null,
   "metadata": {},
   "outputs": [],
   "source": []
  },
  {
   "cell_type": "code",
   "execution_count": null,
   "metadata": {},
   "outputs": [],
   "source": []
  },
  {
   "cell_type": "code",
   "execution_count": null,
   "metadata": {},
   "outputs": [],
   "source": []
  },
  {
   "cell_type": "markdown",
   "metadata": {},
   "source": [
    "## Ejercicio 7\n",
    "Crea una función que reciba un número arbitrario de palabras, y devuelva una frase completa, separando las palabras con espacios."
   ]
  },
  {
   "cell_type": "code",
   "execution_count": 37,
   "metadata": {},
   "outputs": [],
   "source": [
    "def crea_frases(*argumentos)-> str:\n",
    "    try:\n",
    "        inicio = ''\n",
    "        for arg in argumentos:\n",
    "            inicio = inicio + arg + ' '\n",
    "        return inicio[0: -1]\n",
    "\n",
    "    except NameError:\n",
    "        print('Introduzca una palabra válida')"
   ]
  },
  {
   "cell_type": "code",
   "execution_count": 38,
   "metadata": {},
   "outputs": [
    {
     "ename": "NameError",
     "evalue": "name 'más' is not defined",
     "output_type": "error",
     "traceback": [
      "\u001b[1;31m---------------------------------------------------------------------------\u001b[0m",
      "\u001b[1;31mNameError\u001b[0m                                 Traceback (most recent call last)",
      "\u001b[1;32mc:\\Users\\laura\\Desktop\\DS_PT_09_2023\\01-Ramp_Up\\02-Python\\01-Python\\4-Functions\\Practica\\Ejercicios funciones.ipynb Cell 30\u001b[0m line \u001b[0;36m1\n\u001b[1;32m----> <a href='vscode-notebook-cell:/c%3A/Users/laura/Desktop/DS_PT_09_2023/01-Ramp_Up/02-Python/01-Python/4-Functions/Practica/Ejercicios%20funciones.ipynb#X40sZmlsZQ%3D%3D?line=0'>1</a>\u001b[0m crea_frases(\u001b[39m'\u001b[39m\u001b[39muno\u001b[39m\u001b[39m'\u001b[39m , \u001b[39m'\u001b[39m\u001b[39mdos\u001b[39m\u001b[39m'\u001b[39m, \u001b[39m'\u001b[39m\u001b[39mtres\u001b[39m\u001b[39m'\u001b[39m , \u001b[39m'\u001b[39m\u001b[39mno sé\u001b[39m\u001b[39m'\u001b[39m, \u001b[39m'\u001b[39m\u001b[39mcontar\u001b[39m\u001b[39m'\u001b[39m, más)\n",
      "\u001b[1;31mNameError\u001b[0m: name 'más' is not defined"
     ]
    }
   ],
   "source": [
    "crea_frases('uno' , 'dos', 'tres' , 'no sé', 'contar', más)"
   ]
  },
  {
   "cell_type": "markdown",
   "metadata": {},
   "source": [
    "## Ejercicio 8\n",
    "Escribe un programa que obtenga el enésimo número de la [serie de Fibonacci](https://es.wikipedia.org/wiki/Sucesi%C3%B3n_de_Fibonacci). Tienes que crear una función recursiva con un único argumento.\n",
    "\n",
    "```Python\n",
    "fibonacci(2) = 1\n",
    "fibonacci(4) = 3\n",
    "fibonacci(5) = 5\n",
    "fibonacci(8) = 21\n",
    "```"
   ]
  },
  {
   "cell_type": "code",
   "execution_count": null,
   "metadata": {},
   "outputs": [],
   "source": []
  },
  {
   "cell_type": "code",
   "execution_count": null,
   "metadata": {},
   "outputs": [],
   "source": []
  },
  {
   "cell_type": "markdown",
   "metadata": {},
   "source": [
    "## Ejercicio 9\n",
    "Define en una única celda las siguientes funciones:\n",
    "* Función que calcule el área de un cuadrado\n",
    "* Función que calcule el area de un triángulo\n",
    "* Función que calcule el área de un círculo\n",
    "\n",
    "En otra celda, calcular el area de:\n",
    "* Dos círculos de radio 10 + un triángulo de base 3 y altura 7\n",
    "* Un cuadrado de lado = 10 + 3 círculos (uno de radio = 4 y los otros dos de radio = 6) + 5 triángulos de base = 2 + altura = 4"
   ]
  },
  {
   "cell_type": "code",
   "execution_count": 46,
   "metadata": {},
   "outputs": [],
   "source": [
    "import math as math \n",
    "def square_area(lado:float) -> float:\n",
    "    area = lado**2\n",
    "    return print(area)\n",
    "\n",
    "def triang_area(base:float, altura:float) -> float:\n",
    "    areat = base*altura/2\n",
    "    return print(areat)\n",
    "\n",
    "def circ_area(radio:float) -> float:\n",
    "    areac = math.pi*radio**2\n",
    "    return print(areac)"
   ]
  },
  {
   "cell_type": "code",
   "execution_count": 47,
   "metadata": {},
   "outputs": [
    {
     "name": "stdout",
     "output_type": "stream",
     "text": [
      "25\n",
      "25.0\n",
      "314.1592653589793\n"
     ]
    }
   ],
   "source": [
    "square_area(5)\n",
    "triang_area(5,10)\n",
    "circ_area(10)"
   ]
  },
  {
   "cell_type": "code",
   "execution_count": null,
   "metadata": {},
   "outputs": [],
   "source": []
  },
  {
   "cell_type": "code",
   "execution_count": null,
   "metadata": {},
   "outputs": [],
   "source": []
  },
  {
   "cell_type": "code",
   "execution_count": null,
   "metadata": {},
   "outputs": [],
   "source": []
  }
 ],
 "metadata": {
  "kernelspec": {
   "display_name": "Python 3",
   "language": "python",
   "name": "python3"
  },
  "language_info": {
   "codemirror_mode": {
    "name": "ipython",
    "version": 3
   },
   "file_extension": ".py",
   "mimetype": "text/x-python",
   "name": "python",
   "nbconvert_exporter": "python",
   "pygments_lexer": "ipython3",
   "version": "3.11.5"
  }
 },
 "nbformat": 4,
 "nbformat_minor": 4
}
