{
 "cells": [
  {
   "cell_type": "markdown",
   "metadata": {},
   "source": [
    "![imagen](./img/ejercicios.png)"
   ]
  },
  {
   "cell_type": "markdown",
   "metadata": {},
   "source": [
    "# Ejercicios funciones\n",
    "## Ejercicio 1\n",
    "Escribe una función que convierta números del 1 al 7 en nombres de los dias de la semana. La función constará de un único argumento numérico y una salida de tipo string"
   ]
  },
  {
   "cell_type": "code",
   "execution_count": 77,
   "metadata": {},
   "outputs": [
    {
     "name": "stdout",
     "output_type": "stream",
     "text": [
      "jueves\n"
     ]
    }
   ],
   "source": [
    "def conversor_a_dias(numero_dia: int) -> str:\n",
    "    '''\n",
    "    Funcion que convierte el número de día a su nombre\n",
    "    Input:\n",
    "        numero_dia: int\n",
    "        \n",
    "    Output:\n",
    "        nombre: string\n",
    "    '''\n",
    "    diccionario = {\n",
    "        1: \"lunes\",\n",
    "        2:\"martes\",\n",
    "        3: \"miercoles\",\n",
    "        4: \"jueves\",\n",
    "        5: \"viernes\",\n",
    "        6: \"sabado\",\n",
    "        7: \"domingo\"\n",
    "    }\n",
    "\n",
    "    return diccionario.get(numero_dia, \"El número debe estar comprendido entre 1 y 7\")\n",
    "\n",
    "print(conversor_a_dias(4))"
   ]
  },
  {
   "cell_type": "code",
   "execution_count": null,
   "metadata": {},
   "outputs": [],
   "source": []
  },
  {
   "cell_type": "code",
   "execution_count": null,
   "metadata": {},
   "outputs": [],
   "source": []
  },
  {
   "cell_type": "code",
   "execution_count": null,
   "metadata": {},
   "outputs": [],
   "source": []
  },
  {
   "cell_type": "markdown",
   "metadata": {},
   "source": [
    "## Ejercicio 2\n",
    "En el ejercicio 8 de bucles, creábamos una pirámide invertida, cuyo número de pisos venía determinado por un input del usuario. Crea una función que replique el comportamiento de la pirámide, y utiliza un único parámetro de entrada de la función para determinar el número de filas de la pirámide, es decir, elimina la sentencia input."
   ]
  },
  {
   "cell_type": "code",
   "execution_count": 80,
   "metadata": {},
   "outputs": [
    {
     "name": "stdout",
     "output_type": "stream",
     "text": [
      "9 8 7 6 5 4 3 2 1\n",
      "8 7 6 5 4 3 2 1\n",
      "7 6 5 4 3 2 1\n",
      "6 5 4 3 2 1\n",
      "5 4 3 2 1\n",
      "4 3 2 1\n",
      "3 2 1\n",
      "2 1\n",
      "1\n"
     ]
    }
   ],
   "source": [
    "def piramide_invertida(pisos) -> None:\n",
    "    '''\n",
    "    Funcion que imprime una pirámide invertida de N pisos\n",
    "    Input:\n",
    "        pisos: int\n",
    "        \n",
    "    Output:\n",
    "        None\n",
    "    '''\n",
    "    lista_de_numeros = list(range(pisos, 0, -1))\n",
    "\n",
    "    for numero in lista_de_numeros.copy():\n",
    "        print(*lista_de_numeros)\n",
    "        lista_de_numeros.pop(0)\n",
    "\n",
    "piramide_invertida(9)"
   ]
  },
  {
   "cell_type": "code",
   "execution_count": null,
   "metadata": {},
   "outputs": [],
   "source": []
  },
  {
   "cell_type": "markdown",
   "metadata": {},
   "source": [
    "## Ejercicio 3\n",
    "Escibe una función que compare dos números. La función tiene dos argumentos y hay tres salidas posibles: que sean iguales, que el primero se  mayor que el segundo, o que el segundo sea mayor que el primero"
   ]
  },
  {
   "cell_type": "code",
   "execution_count": 10,
   "metadata": {},
   "outputs": [
    {
     "data": {
      "text/plain": [
       "'iguales'"
      ]
     },
     "execution_count": 10,
     "metadata": {},
     "output_type": "execute_result"
    }
   ],
   "source": [
    "def comparador(numero1: float, numero2: float) -> str:\n",
    "    '''\n",
    "    Funcion que compara 2 numeros\n",
    "    Inputs:\n",
    "        numero1: float\n",
    "        numero2: float\n",
    "        \n",
    "    Output:\n",
    "        resultado: string\n",
    "    '''\n",
    "    if numero1 == numero2:\n",
    "        return \"iguales\"\n",
    "    elif numero1 > numero2:\n",
    "        return f\"El numero {numero1} es mayor que el numero {numero2}\"\n",
    "    else:\n",
    "        return f\"El numero {numero2} es mayor que el numero {numero1}\"\n",
    "    \n",
    "comparador(4, 4)"
   ]
  },
  {
   "cell_type": "code",
   "execution_count": null,
   "metadata": {},
   "outputs": [],
   "source": []
  },
  {
   "cell_type": "code",
   "execution_count": null,
   "metadata": {},
   "outputs": [],
   "source": []
  },
  {
   "cell_type": "code",
   "execution_count": null,
   "metadata": {},
   "outputs": [],
   "source": []
  },
  {
   "cell_type": "markdown",
   "metadata": {},
   "source": [
    "## Ejercicio 4\n",
    "Escribe una función que sea un contador de letras. En el primer argumento tienes que introducir un texto, y el segundo que sea la letra a contar. La función tiene que devolver un entero con el número de veces que aparece esa letra, tanto mayuscula, como minúscula"
   ]
  },
  {
   "cell_type": "code",
   "execution_count": 15,
   "metadata": {},
   "outputs": [
    {
     "data": {
      "text/plain": [
       "3"
      ]
     },
     "execution_count": 15,
     "metadata": {},
     "output_type": "execute_result"
    }
   ],
   "source": [
    "def busca_letras(frase, letra_buscada):\n",
    "    contador = 0\n",
    "    for letra in frase:\n",
    "        if letra_buscada == letra:\n",
    "            contador += 1\n",
    "\n",
    "    return contador\n",
    "\n",
    "busca_letras(\"En un lugar de la mancha\", \"n\")"
   ]
  },
  {
   "cell_type": "code",
   "execution_count": null,
   "metadata": {},
   "outputs": [],
   "source": []
  },
  {
   "cell_type": "markdown",
   "metadata": {},
   "source": [
    "## Ejercicio 5\n",
    "Escribe una función que tenga un único argumento, un string. La salida de la función tiene que ser un diccionario con el conteo de todas las letras de ese string."
   ]
  },
  {
   "cell_type": "code",
   "execution_count": 21,
   "metadata": {},
   "outputs": [
    {
     "data": {
      "text/plain": [
       "{'r': 1,\n",
       " 'g': 1,\n",
       " 'u': 2,\n",
       " 'c': 1,\n",
       " 'n': 3,\n",
       " 'd': 1,\n",
       " 'e': 1,\n",
       " 'l': 2,\n",
       " 'm': 1,\n",
       " 'E': 1,\n",
       " 'h': 1,\n",
       " ' ': 5,\n",
       " 'a': 4}"
      ]
     },
     "execution_count": 21,
     "metadata": {},
     "output_type": "execute_result"
    }
   ],
   "source": [
    "def frase_a_diccionario(frase):\n",
    "    diccionario = {}\n",
    "    for letra in set(frase):\n",
    "        diccionario[letra] = frase.count(letra)\n",
    "\n",
    "    return diccionario\n",
    "\n",
    "frase_a_diccionario(\"En un lugar de la mancha\")\n"
   ]
  },
  {
   "cell_type": "code",
   "execution_count": null,
   "metadata": {},
   "outputs": [],
   "source": []
  },
  {
   "cell_type": "code",
   "execution_count": null,
   "metadata": {},
   "outputs": [],
   "source": []
  },
  {
   "cell_type": "code",
   "execution_count": null,
   "metadata": {},
   "outputs": [],
   "source": []
  },
  {
   "cell_type": "markdown",
   "metadata": {},
   "source": [
    "## Ejercicio 6\n",
    "Escribir una función que añada o elimine elementos en una lista. La función necesita los siguientes argumentos:\n",
    "* lista: la lista donde se añadirán o eliminarán los elementos\n",
    "* comando: \"add\" o \"remove\"\n",
    "* elemento: Por defecto es None."
   ]
  },
  {
   "cell_type": "code",
   "execution_count": 25,
   "metadata": {},
   "outputs": [],
   "source": [
    "def add_or_remove(lista: list, comando, elemento) -> list:\n",
    "    if \"add\" == comando:\n",
    "        lista.append(elemento)\n",
    "    elif \"remove\" == comando:\n",
    "        lista.remove(elemento)\n",
    "    else:\n",
    "        print(\"Comando no reconocido\")\n",
    "    return lista"
   ]
  },
  {
   "cell_type": "code",
   "execution_count": 28,
   "metadata": {},
   "outputs": [],
   "source": [
    "lista = [1, 2, 3, 4, 5]\n",
    "\n",
    "lista = add_or_remove(lista, \"add\", 6)"
   ]
  },
  {
   "cell_type": "code",
   "execution_count": 29,
   "metadata": {},
   "outputs": [
    {
     "name": "stdout",
     "output_type": "stream",
     "text": [
      "[1, 2, 3, 4, 5, 6]\n",
      "[1, 2, 4, 5, 6]\n"
     ]
    }
   ],
   "source": [
    "print(lista)\n",
    "\n",
    "lista = add_or_remove(lista, \"remove\", 3)\n",
    "\n",
    "print(lista)"
   ]
  },
  {
   "cell_type": "markdown",
   "metadata": {},
   "source": [
    "## Ejercicio 7\n",
    "Crea una función que reciba un número arbitrario de palabras, y devuelva una frase completa, separando las palabras con espacios."
   ]
  },
  {
   "cell_type": "code",
   "execution_count": 50,
   "metadata": {},
   "outputs": [
    {
     "name": "stdout",
     "output_type": "stream",
     "text": [
      "En un lugar de la mancha\n"
     ]
    }
   ],
   "source": [
    "def separador_de_palabras(*lista_palabras):\n",
    "    return \" \".join(lista_palabras)\n",
    "\n",
    "print(separador_de_palabras(\"En\", \"un\", \"lugar\", \"de\", \"la\", \"mancha\"))"
   ]
  },
  {
   "cell_type": "code",
   "execution_count": null,
   "metadata": {},
   "outputs": [],
   "source": []
  },
  {
   "cell_type": "markdown",
   "metadata": {},
   "source": [
    "## Ejercicio 8\n",
    "Escribe un programa que obtenga el enésimo número de la [serie de Fibonacci](https://es.wikipedia.org/wiki/Sucesi%C3%B3n_de_Fibonacci). Tienes que crear una función recursiva con un único argumento.\n",
    "\n",
    "```Python\n",
    "fibonacci(2) = 1\n",
    "fibonacci(4) = 3\n",
    "fibonacci(5) = 5\n",
    "fibonacci(8) = 21\n",
    "```"
   ]
  },
  {
   "cell_type": "code",
   "execution_count": 74,
   "metadata": {},
   "outputs": [
    {
     "name": "stdout",
     "output_type": "stream",
     "text": [
      "21\n"
     ]
    }
   ],
   "source": [
    "def fibonacci(numero_entero):\n",
    "    if (numero_entero <= 1):\n",
    "        return numero_entero\n",
    "    return fibonacci(numero_entero-1) + fibonacci(numero_entero-2)\n",
    "\n",
    "print(fibonacci(8))"
   ]
  },
  {
   "cell_type": "code",
   "execution_count": null,
   "metadata": {},
   "outputs": [],
   "source": []
  },
  {
   "cell_type": "markdown",
   "metadata": {},
   "source": [
    "## Ejercicio 9\n",
    "Define en una única celda las siguientes funciones:\n",
    "* Función que calcule el área de un cuadrado\n",
    "* Función que calcule el area de un triángulo\n",
    "* Función que calcule el área de un círculo\n",
    "\n",
    "En otra celda, calcular el area de:\n",
    "* Dos círculos de radio 10 + un triángulo de base 3 y altura 7\n",
    "* Un cuadrado de lado = 10 + 3 círculos (uno de radio = 4 y los otros dos de radio = 6) + 5 triángulos de base = 2 + altura = 4"
   ]
  },
  {
   "cell_type": "code",
   "execution_count": 42,
   "metadata": {},
   "outputs": [],
   "source": [
    "import math\n",
    "\n",
    "def area_cuadrado(lado):\n",
    "    return lado**2\n",
    "\n",
    "def area_triangulo(base, altura):\n",
    "    return (base*altura)/2\n",
    "\n",
    "def area_circulo(radio):\n",
    "    return math.pi*(radio**2)\n"
   ]
  },
  {
   "cell_type": "code",
   "execution_count": 43,
   "metadata": {},
   "outputs": [
    {
     "name": "stdout",
     "output_type": "stream",
     "text": [
      "Área de Dos círculos de radio 10 + un triángulo de base 3 y altura 7: 638.8185307179587\n",
      "Área de Un cuadrado de lado = 10 + 3 círculos (uno de radio = 4 y los otros dos de radio = 6) + 5 triángulos de base = 2 + altura = 4: 396.46015351590177\n"
     ]
    }
   ],
   "source": [
    "area1 = 2*area_circulo(10)+area_triangulo(base=3, altura=7)\n",
    "area2 = area_cuadrado(10) + area_circulo(4) + 2* area_circulo(6) + 5* area_triangulo(base=2, altura=4)\n",
    "\n",
    "print(f\"Área de Dos círculos de radio 10 + un triángulo de base 3 y altura 7: {area1}\")\n",
    "print(f\"Área de Un cuadrado de lado = 10 + 3 círculos (uno de radio = 4 y los otros dos de radio = 6) + 5 triángulos de base = 2 + altura = 4: {area2}\")"
   ]
  },
  {
   "cell_type": "code",
   "execution_count": null,
   "metadata": {},
   "outputs": [],
   "source": []
  },
  {
   "cell_type": "code",
   "execution_count": null,
   "metadata": {},
   "outputs": [],
   "source": []
  },
  {
   "cell_type": "code",
   "execution_count": null,
   "metadata": {},
   "outputs": [],
   "source": []
  }
 ],
 "metadata": {
  "kernelspec": {
   "display_name": "Python 3",
   "language": "python",
   "name": "python3"
  },
  "language_info": {
   "codemirror_mode": {
    "name": "ipython",
    "version": 3
   },
   "file_extension": ".py",
   "mimetype": "text/x-python",
   "name": "python",
   "nbconvert_exporter": "python",
   "pygments_lexer": "ipython3",
   "version": "3.7.4"
  }
 },
 "nbformat": 4,
 "nbformat_minor": 4
}
