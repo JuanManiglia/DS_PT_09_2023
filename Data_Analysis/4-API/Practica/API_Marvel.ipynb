{
 "cells": [
  {
   "attachments": {},
   "cell_type": "markdown",
   "metadata": {},
   "source": [
    "![marvel](https://www.emp-online.es/dw/image/v2/BBQV_PRD/on/demandware.static/-/Library-Sites-EMPSharedLibrary/default/dwe169dcbd/100151_MT_Marvel.jpg?sw=350)"
   ]
  },
  {
   "attachments": {},
   "cell_type": "markdown",
   "metadata": {},
   "source": [
    "Para esta practica vamos a utilizar la api de [`Marvel`](developer.marvel.com)"
   ]
  },
  {
   "attachments": {},
   "cell_type": "markdown",
   "metadata": {},
   "source": [
    "Primero, necesitarás una clave API de Marvel, que puedes obtener registrándote en https://developer.marvel.com/"
   ]
  },
  {
   "attachments": {},
   "cell_type": "markdown",
   "metadata": {},
   "source": [
    "La practica consiste en crear un DataFrame de los personajes"
   ]
  },
  {
   "attachments": {},
   "cell_type": "markdown",
   "metadata": {},
   "source": [
    "Necesitamos que el DataFrame tenga la siguiente informacion:\n",
    "1. id\n",
    "2. nombre\n",
    "3. url imagen\n",
    "4. comics donde aparece\n",
    "5. creador\n"
   ]
  },
  {
   "attachments": {},
   "cell_type": "markdown",
   "metadata": {},
   "source": [
    "## **Librerias**"
   ]
  },
  {
   "cell_type": "code",
   "execution_count": 23,
   "metadata": {},
   "outputs": [],
   "source": [
    "import requests\n",
    "import pandas as pd"
   ]
  },
  {
   "attachments": {},
   "cell_type": "markdown",
   "metadata": {},
   "source": [
    "## **Crear DataFrame** atacando la `API`"
   ]
  },
  {
   "cell_type": "code",
   "execution_count": 29,
   "metadata": {},
   "outputs": [
    {
     "data": {
      "text/plain": [
       "'Cable (Deadpool)'"
      ]
     },
     "execution_count": 29,
     "metadata": {},
     "output_type": "execute_result"
    }
   ],
   "source": [
    "# token afb1aea03afc5be035914b25f0496677\n",
    "\n",
    "url = 'http://gateway.marvel.com/v1/public/characters'\n",
    "params = {'limit' : 100,\n",
    "        'nameStartsWith' : 'C',\n",
    "        'ts' : 1,\n",
    "        'apikey' : 'afb1aea03afc5be035914b25f0496677',\n",
    "        'hash' : 'a271cc7713ddd935544d6e2e936766fc'}\n",
    "response = requests.get(url, params=params)\n",
    "\n",
    "response.json()\n",
    "data = response.json()\n",
    "\n",
    "df = pd.DataFrame(data['data'])\n"
   ]
  },
  {
   "cell_type": "code",
   "execution_count": 149,
   "metadata": {},
   "outputs": [
    {
     "data": {
      "text/html": [
       "<div>\n",
       "<style scoped>\n",
       "    .dataframe tbody tr th:only-of-type {\n",
       "        vertical-align: middle;\n",
       "    }\n",
       "\n",
       "    .dataframe tbody tr th {\n",
       "        vertical-align: top;\n",
       "    }\n",
       "\n",
       "    .dataframe thead th {\n",
       "        text-align: right;\n",
       "    }\n",
       "</style>\n",
       "<table border=\"1\" class=\"dataframe\">\n",
       "  <thead>\n",
       "    <tr style=\"text-align: right;\">\n",
       "      <th></th>\n",
       "      <th>Name</th>\n",
       "      <th>Picture_url</th>\n",
       "      <th>Comics</th>\n",
       "    </tr>\n",
       "    <tr>\n",
       "      <th>ID</th>\n",
       "      <th></th>\n",
       "      <th></th>\n",
       "      <th></th>\n",
       "    </tr>\n",
       "  </thead>\n",
       "  <tbody>\n",
       "    <tr>\n",
       "      <th>1009214</th>\n",
       "      <td>Cable</td>\n",
       "      <td>http://i.annihil.us/u/prod/marvel/i/mg/3/90/52...</td>\n",
       "      <td>[A+X (2012) #1, All-New Guardians of the Galax...</td>\n",
       "    </tr>\n",
       "    <tr>\n",
       "      <th>1017317</th>\n",
       "      <td>Cable (Deadpool)</td>\n",
       "      <td>http://i.annihil.us/u/prod/marvel/i/mg/f/50/52...</td>\n",
       "      <td>[Cable &amp; Deadpool (2004) #1, Cable &amp; Deadpool ...</td>\n",
       "    </tr>\n",
       "    <tr>\n",
       "      <th>1017307</th>\n",
       "      <td>Cable (Marvel: Avengers Alliance)</td>\n",
       "      <td>http://i.annihil.us/u/prod/marvel/i/mg/3/d0/52...</td>\n",
       "      <td>[]</td>\n",
       "    </tr>\n",
       "    <tr>\n",
       "      <th>1011252</th>\n",
       "      <td>Cable (Ultimate)</td>\n",
       "      <td>http://i.annihil.us/u/prod/marvel/i/mg/c/10/53...</td>\n",
       "      <td>[Ultimate X-Men (2001) #92, Ultimate X-Men (20...</td>\n",
       "    </tr>\n",
       "    <tr>\n",
       "      <th>1017472</th>\n",
       "      <td>Cable (X-Men: Battle of the Atom)</td>\n",
       "      <td>http://i.annihil.us/u/prod/marvel/i/mg/9/b0/52...</td>\n",
       "      <td>[]</td>\n",
       "    </tr>\n",
       "    <tr>\n",
       "      <th>...</th>\n",
       "      <td>...</td>\n",
       "      <td>...</td>\n",
       "      <td>...</td>\n",
       "    </tr>\n",
       "    <tr>\n",
       "      <th>1009255</th>\n",
       "      <td>Crystal</td>\n",
       "      <td>http://i.annihil.us/u/prod/marvel/i/mg/6/c0/52...</td>\n",
       "      <td>[Alpha Flight (1983) #61, Avengers (1998) #1, ...</td>\n",
       "    </tr>\n",
       "    <tr>\n",
       "      <th>1011268</th>\n",
       "      <td>Cuckoo</td>\n",
       "      <td>http://i.annihil.us/u/prod/marvel/i/mg/b/40/im...</td>\n",
       "      <td>[Daredevil Annual (2012) #1]</td>\n",
       "    </tr>\n",
       "    <tr>\n",
       "      <th>1009244</th>\n",
       "      <td>Curt Conners</td>\n",
       "      <td>http://i.annihil.us/u/prod/marvel/i/mg/b/40/im...</td>\n",
       "      <td>[Amazing Spider-Man (1999) #688, Amazing Spide...</td>\n",
       "    </tr>\n",
       "    <tr>\n",
       "      <th>1011174</th>\n",
       "      <td>Cuthbert</td>\n",
       "      <td>http://i.annihil.us/u/prod/marvel/i/mg/b/40/im...</td>\n",
       "      <td>[]</td>\n",
       "    </tr>\n",
       "    <tr>\n",
       "      <th>1009256</th>\n",
       "      <td>Cyber</td>\n",
       "      <td>http://i.annihil.us/u/prod/marvel/i/mg/1/f0/4c...</td>\n",
       "      <td>[Wolverine (1988) #79, Wolverine (1988) #80, W...</td>\n",
       "    </tr>\n",
       "  </tbody>\n",
       "</table>\n",
       "<p>100 rows × 3 columns</p>\n",
       "</div>"
      ],
      "text/plain": [
       "                                      Name  \\\n",
       "ID                                           \n",
       "1009214                              Cable   \n",
       "1017317                   Cable (Deadpool)   \n",
       "1017307  Cable (Marvel: Avengers Alliance)   \n",
       "1011252                   Cable (Ultimate)   \n",
       "1017472  Cable (X-Men: Battle of the Atom)   \n",
       "...                                    ...   \n",
       "1009255                            Crystal   \n",
       "1011268                             Cuckoo   \n",
       "1009244                       Curt Conners   \n",
       "1011174                           Cuthbert   \n",
       "1009256                              Cyber   \n",
       "\n",
       "                                               Picture_url  \\\n",
       "ID                                                           \n",
       "1009214  http://i.annihil.us/u/prod/marvel/i/mg/3/90/52...   \n",
       "1017317  http://i.annihil.us/u/prod/marvel/i/mg/f/50/52...   \n",
       "1017307  http://i.annihil.us/u/prod/marvel/i/mg/3/d0/52...   \n",
       "1011252  http://i.annihil.us/u/prod/marvel/i/mg/c/10/53...   \n",
       "1017472  http://i.annihil.us/u/prod/marvel/i/mg/9/b0/52...   \n",
       "...                                                    ...   \n",
       "1009255  http://i.annihil.us/u/prod/marvel/i/mg/6/c0/52...   \n",
       "1011268  http://i.annihil.us/u/prod/marvel/i/mg/b/40/im...   \n",
       "1009244  http://i.annihil.us/u/prod/marvel/i/mg/b/40/im...   \n",
       "1011174  http://i.annihil.us/u/prod/marvel/i/mg/b/40/im...   \n",
       "1009256  http://i.annihil.us/u/prod/marvel/i/mg/1/f0/4c...   \n",
       "\n",
       "                                                    Comics  \n",
       "ID                                                          \n",
       "1009214  [A+X (2012) #1, All-New Guardians of the Galax...  \n",
       "1017317  [Cable & Deadpool (2004) #1, Cable & Deadpool ...  \n",
       "1017307                                                 []  \n",
       "1011252  [Ultimate X-Men (2001) #92, Ultimate X-Men (20...  \n",
       "1017472                                                 []  \n",
       "...                                                    ...  \n",
       "1009255  [Alpha Flight (1983) #61, Avengers (1998) #1, ...  \n",
       "1011268                       [Daredevil Annual (2012) #1]  \n",
       "1009244  [Amazing Spider-Man (1999) #688, Amazing Spide...  \n",
       "1011174                                                 []  \n",
       "1009256  [Wolverine (1988) #79, Wolverine (1988) #80, W...  \n",
       "\n",
       "[100 rows x 3 columns]"
      ]
     },
     "execution_count": 149,
     "metadata": {},
     "output_type": "execute_result"
    }
   ],
   "source": [
    "characters_list = [{\"ID\": character[\"id\"], \"Name\": character[\"name\"], \"Picture_url\": character[\"thumbnail\"][\"path\"], \"Comics\" : [data['name'] for data in character['comics']['items']]} for character in df['results']]\n",
    "dataFrame = pd.DataFrame(characters_list).set_index('ID')\n",
    "dataFrame\n"
   ]
  }
 ],
 "metadata": {
  "kernelspec": {
   "display_name": ".venv",
   "language": "python",
   "name": "python3"
  },
  "language_info": {
   "codemirror_mode": {
    "name": "ipython",
    "version": 3
   },
   "file_extension": ".py",
   "mimetype": "text/x-python",
   "name": "python",
   "nbconvert_exporter": "python",
   "pygments_lexer": "ipython3",
   "version": "3.11.6"
  },
  "orig_nbformat": 4
 },
 "nbformat": 4,
 "nbformat_minor": 2
}
