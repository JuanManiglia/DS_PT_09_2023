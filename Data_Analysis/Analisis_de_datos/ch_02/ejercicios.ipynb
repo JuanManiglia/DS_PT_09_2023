{
 "cells": [
  {
   "cell_type": "markdown",
   "metadata": {},
   "source": [
    "# Ejercicios\n",
    "\n",
    "Usando el archivo data/parsed.csv y el material de este capítulo, complete los siguientes ejercicios para practicar sus habilidades con pandas:\n",
    "\n",
    "1. Encuentre el percentil 95 de la magnitud del terremoto en Japón usando el mb tipo de magnitud.\n",
    "2. Encuentra el porcentaje de terremotos en Indonesia que fueron acompañados de tsunamis.\n",
    "3. Calcular las estadísticas resumidas de los terremotos en Nevada.\n",
    "4. Añade una columna indicando si el terremoto ocurrió en un país o estado de EEUU que se encuentre en el Cinturón de Fuego. Utiliza Alaska, Antártida (busca Antarctic), Bolivia,\n",
    "California, Canadá, Chile, Costa Rica, Ecuador, Fiyi, Guatemala, Indonesia, Japón, Islas Kermadec, México (tenga cuidado de no seleccionar Nuevo México), Nueva Zelanda, Perú, Filipinas, Rusia, Taiwán, Tonga y Washington.\n",
    "5. Calcula el número de terremotos en los lugares del Cinturón de Fuego y el número fuera de ellos.\n",
    "6. Calcula el número de tsunamis a lo largo del Cinturón de Fuego."
   ]
  },
  {
   "cell_type": "code",
   "execution_count": 2,
   "metadata": {},
   "outputs": [],
   "source": [
    "import numpy as np\n",
    "import pandas as pd"
   ]
  },
  {
   "cell_type": "code",
   "execution_count": 49,
   "metadata": {},
   "outputs": [
    {
     "name": "stdout",
     "output_type": "stream",
     "text": [
      "     alert  cdi        code  \\\n",
      "0      NaN  NaN    37389218   \n",
      "1      NaN  NaN    37389202   \n",
      "2      NaN  4.4    37389194   \n",
      "3      NaN  NaN    37389186   \n",
      "4      NaN  NaN    73096941   \n",
      "...    ...  ...         ...   \n",
      "9327   NaN  NaN    73086771   \n",
      "9328   NaN  NaN    38063967   \n",
      "9329   NaN  NaN  2018261000   \n",
      "9330   NaN  NaN    38063959   \n",
      "9331   NaN  NaN    38063935   \n",
      "\n",
      "                                                 detail      dmin  felt  \\\n",
      "0     https://earthquake.usgs.gov/fdsnws/event/1/que...  0.008693   NaN   \n",
      "1     https://earthquake.usgs.gov/fdsnws/event/1/que...  0.020030   NaN   \n",
      "2     https://earthquake.usgs.gov/fdsnws/event/1/que...  0.021370  28.0   \n",
      "3     https://earthquake.usgs.gov/fdsnws/event/1/que...  0.026180   NaN   \n",
      "4     https://earthquake.usgs.gov/fdsnws/event/1/que...  0.077990   NaN   \n",
      "...                                                 ...       ...   ...   \n",
      "9327  https://earthquake.usgs.gov/fdsnws/event/1/que...  0.018060   NaN   \n",
      "9328  https://earthquake.usgs.gov/fdsnws/event/1/que...  0.030410   NaN   \n",
      "9329  https://earthquake.usgs.gov/fdsnws/event/1/que...  0.452600   NaN   \n",
      "9330  https://earthquake.usgs.gov/fdsnws/event/1/que...  0.018650   NaN   \n",
      "9331  https://earthquake.usgs.gov/fdsnws/event/1/que...  0.016980   NaN   \n",
      "\n",
      "        gap             ids   mag magType  ...     status           time  \\\n",
      "0      85.0    ,ci37389218,  1.35      ml  ...  automatic  1539475168010   \n",
      "1      79.0    ,ci37389202,  1.29      ml  ...  automatic  1539475129610   \n",
      "2      21.0    ,ci37389194,  3.42      ml  ...  automatic  1539475062610   \n",
      "3      39.0    ,ci37389186,  0.44      ml  ...  automatic  1539474978070   \n",
      "4     192.0    ,nc73096941,  2.16      md  ...  automatic  1539474716050   \n",
      "...     ...             ...   ...     ...  ...        ...            ...   \n",
      "9327  185.0    ,nc73086771,  0.62      md  ...   reviewed  1537230228060   \n",
      "9328   50.0    ,ci38063967,  1.00      ml  ...   reviewed  1537230135130   \n",
      "9329  276.0  ,pr2018261000,  2.40      md  ...   reviewed  1537229908180   \n",
      "9330   61.0    ,ci38063959,  1.10      ml  ...   reviewed  1537229545350   \n",
      "9331   39.0    ,ci38063935,  0.66      ml  ...   reviewed  1537228864470   \n",
      "\n",
      "                                         title tsunami        type  \\\n",
      "0                M 1.4 - 9km NE of Aguanga, CA       0  earthquake   \n",
      "1                M 1.3 - 9km NE of Aguanga, CA       0  earthquake   \n",
      "2                M 3.4 - 8km NE of Aguanga, CA       0  earthquake   \n",
      "3                M 0.4 - 9km NE of Aguanga, CA       0  earthquake   \n",
      "4                M 2.2 - 10km NW of Avenal, CA       0  earthquake   \n",
      "...                                        ...     ...         ...   \n",
      "9327      M 0.6 - 9km ENE of Mammoth Lakes, CA       0  earthquake   \n",
      "9328               M 1.0 - 3km W of Julian, CA       0  earthquake   \n",
      "9329  M 2.4 - 35km NNE of Hatillo, Puerto Rico       0  earthquake   \n",
      "9330             M 1.1 - 9km NE of Aguanga, CA       0  earthquake   \n",
      "9331             M 0.7 - 9km NE of Aguanga, CA       0  earthquake   \n",
      "\n",
      "                                                  types     tz        updated  \\\n",
      "0            ,geoserve,nearby-cities,origin,phase-data, -480.0  1539475395144   \n",
      "1            ,geoserve,nearby-cities,origin,phase-data, -480.0  1539475253925   \n",
      "2     ,dyfi,focal-mechanism,geoserve,nearby-cities,o... -480.0  1539536756176   \n",
      "3            ,geoserve,nearby-cities,origin,phase-data, -480.0  1539475196167   \n",
      "4     ,geoserve,nearby-cities,origin,phase-data,scit... -480.0  1539477547926   \n",
      "...                                                 ...    ...            ...   \n",
      "9327         ,geoserve,nearby-cities,origin,phase-data, -480.0  1537285598315   \n",
      "9328  ,geoserve,nearby-cities,origin,phase-data,scit... -480.0  1537276800970   \n",
      "9329                       ,geoserve,origin,phase-data, -240.0  1537243777410   \n",
      "9330  ,focal-mechanism,geoserve,nearby-cities,origin... -480.0  1537230211640   \n",
      "9331  ,focal-mechanism,geoserve,nearby-cities,origin... -480.0  1537305830770   \n",
      "\n",
      "                                                    url parsed_place  \n",
      "0     https://earthquake.usgs.gov/earthquakes/eventp...   California  \n",
      "1     https://earthquake.usgs.gov/earthquakes/eventp...   California  \n",
      "2     https://earthquake.usgs.gov/earthquakes/eventp...   California  \n",
      "3     https://earthquake.usgs.gov/earthquakes/eventp...   California  \n",
      "4     https://earthquake.usgs.gov/earthquakes/eventp...   California  \n",
      "...                                                 ...          ...  \n",
      "9327  https://earthquake.usgs.gov/earthquakes/eventp...   California  \n",
      "9328  https://earthquake.usgs.gov/earthquakes/eventp...   California  \n",
      "9329  https://earthquake.usgs.gov/earthquakes/eventp...  Puerto Rico  \n",
      "9330  https://earthquake.usgs.gov/earthquakes/eventp...   California  \n",
      "9331  https://earthquake.usgs.gov/earthquakes/eventp...   California  \n",
      "\n",
      "[9332 rows x 27 columns]\n"
     ]
    }
   ],
   "source": [
    "df = pd.read_csv('data/parsed.csv')\n",
    "print(df)"
   ]
  },
  {
   "cell_type": "markdown",
   "metadata": {},
   "source": [
    "### Ejercicio 1 ###"
   ]
  },
  {
   "cell_type": "code",
   "execution_count": 22,
   "metadata": {},
   "outputs": [
    {
     "data": {
      "text/plain": [
       "count    50.000000\n",
       "mean      4.530000\n",
       "std       0.266688\n",
       "min       4.000000\n",
       "50%       4.600000\n",
       "95%       4.900000\n",
       "max       5.400000\n",
       "Name: mag, dtype: float64"
      ]
     },
     "execution_count": 22,
     "metadata": {},
     "output_type": "execute_result"
    }
   ],
   "source": [
    "# Creo un dataframe con los datos que correcponden a Japón\n",
    "df_japan = df.loc[df['parsed_place'] == 'Japan']\n",
    "# Creo un dataframe con los datos del tipo de magnitud mb\n",
    "df_japan_mb = df_japan.loc[df_japan['magType'] == 'mb']\n",
    "# Muestro los datos del percentil 95 de la magnitud\n",
    "df_japan_mb['mag'].describe(percentiles=[0.95])"
   ]
  },
  {
   "cell_type": "markdown",
   "metadata": {},
   "source": [
    "### Ejercicio 2 ###"
   ]
  },
  {
   "cell_type": "code",
   "execution_count": 38,
   "metadata": {},
   "outputs": [
    {
     "name": "stdout",
     "output_type": "stream",
     "text": [
      "El porcentaje de terremotos con tsunamis es 23.13%\n"
     ]
    }
   ],
   "source": [
    "# Creo un dataframe con los datos de los terremotos de indonesia\n",
    "df_indonesia = df.loc[df['parsed_place'] == 'Indonesia']\n",
    "# Ahora busco los terremotos con tsunamis\n",
    "df_indonesia_tsunami = df_indonesia.loc[df_indonesia['tsunami'] == 1]\n",
    "# Calculo el porcetaje en base al número de filas de cada dataframe\n",
    "porcetaje = round((len(df_indonesia_tsunami)*100)/len(df_indonesia), 2)\n",
    "\n",
    "print(f\"El porcentaje de terremotos con tsunamis es {porcetaje}%\")"
   ]
  },
  {
   "cell_type": "markdown",
   "metadata": {},
   "source": [
    "### Ejercicio 3 ###"
   ]
  },
  {
   "cell_type": "code",
   "execution_count": 44,
   "metadata": {},
   "outputs": [
    {
     "data": {
      "text/html": [
       "<div>\n",
       "<style scoped>\n",
       "    .dataframe tbody tr th:only-of-type {\n",
       "        vertical-align: middle;\n",
       "    }\n",
       "\n",
       "    .dataframe tbody tr th {\n",
       "        vertical-align: top;\n",
       "    }\n",
       "\n",
       "    .dataframe thead th {\n",
       "        text-align: right;\n",
       "    }\n",
       "</style>\n",
       "<table border=\"1\" class=\"dataframe\">\n",
       "  <thead>\n",
       "    <tr style=\"text-align: right;\">\n",
       "      <th></th>\n",
       "      <th>cdi</th>\n",
       "      <th>dmin</th>\n",
       "      <th>felt</th>\n",
       "      <th>gap</th>\n",
       "      <th>mag</th>\n",
       "      <th>mmi</th>\n",
       "      <th>nst</th>\n",
       "      <th>rms</th>\n",
       "      <th>sig</th>\n",
       "      <th>time</th>\n",
       "      <th>tsunami</th>\n",
       "      <th>tz</th>\n",
       "      <th>updated</th>\n",
       "    </tr>\n",
       "  </thead>\n",
       "  <tbody>\n",
       "    <tr>\n",
       "      <th>count</th>\n",
       "      <td>15.000000</td>\n",
       "      <td>681.000000</td>\n",
       "      <td>15.000000</td>\n",
       "      <td>681.000000</td>\n",
       "      <td>681.000000</td>\n",
       "      <td>1.00</td>\n",
       "      <td>681.000000</td>\n",
       "      <td>681.000000</td>\n",
       "      <td>681.000000</td>\n",
       "      <td>6.810000e+02</td>\n",
       "      <td>681.0</td>\n",
       "      <td>681.0</td>\n",
       "      <td>6.810000e+02</td>\n",
       "    </tr>\n",
       "    <tr>\n",
       "      <th>mean</th>\n",
       "      <td>2.440000</td>\n",
       "      <td>0.166199</td>\n",
       "      <td>2.400000</td>\n",
       "      <td>153.668120</td>\n",
       "      <td>0.500073</td>\n",
       "      <td>2.84</td>\n",
       "      <td>12.618209</td>\n",
       "      <td>0.151986</td>\n",
       "      <td>10.970631</td>\n",
       "      <td>1.538314e+12</td>\n",
       "      <td>0.0</td>\n",
       "      <td>-480.0</td>\n",
       "      <td>1.538402e+12</td>\n",
       "    </tr>\n",
       "    <tr>\n",
       "      <th>std</th>\n",
       "      <td>0.501142</td>\n",
       "      <td>0.166228</td>\n",
       "      <td>4.626013</td>\n",
       "      <td>68.735302</td>\n",
       "      <td>0.696710</td>\n",
       "      <td>NaN</td>\n",
       "      <td>9.866963</td>\n",
       "      <td>0.084662</td>\n",
       "      <td>19.607150</td>\n",
       "      <td>5.965637e+08</td>\n",
       "      <td>0.0</td>\n",
       "      <td>0.0</td>\n",
       "      <td>6.010951e+08</td>\n",
       "    </tr>\n",
       "    <tr>\n",
       "      <th>min</th>\n",
       "      <td>2.000000</td>\n",
       "      <td>0.001000</td>\n",
       "      <td>1.000000</td>\n",
       "      <td>29.140000</td>\n",
       "      <td>-0.500000</td>\n",
       "      <td>2.84</td>\n",
       "      <td>3.000000</td>\n",
       "      <td>0.000500</td>\n",
       "      <td>0.000000</td>\n",
       "      <td>1.537247e+12</td>\n",
       "      <td>0.0</td>\n",
       "      <td>-480.0</td>\n",
       "      <td>1.537307e+12</td>\n",
       "    </tr>\n",
       "    <tr>\n",
       "      <th>25%</th>\n",
       "      <td>2.000000</td>\n",
       "      <td>0.053000</td>\n",
       "      <td>1.000000</td>\n",
       "      <td>97.380000</td>\n",
       "      <td>-0.100000</td>\n",
       "      <td>2.84</td>\n",
       "      <td>6.000000</td>\n",
       "      <td>0.106900</td>\n",
       "      <td>0.000000</td>\n",
       "      <td>1.537854e+12</td>\n",
       "      <td>0.0</td>\n",
       "      <td>-480.0</td>\n",
       "      <td>1.537928e+12</td>\n",
       "    </tr>\n",
       "    <tr>\n",
       "      <th>50%</th>\n",
       "      <td>2.200000</td>\n",
       "      <td>0.112000</td>\n",
       "      <td>1.000000</td>\n",
       "      <td>149.140000</td>\n",
       "      <td>0.400000</td>\n",
       "      <td>2.84</td>\n",
       "      <td>10.000000</td>\n",
       "      <td>0.146300</td>\n",
       "      <td>2.000000</td>\n",
       "      <td>1.538280e+12</td>\n",
       "      <td>0.0</td>\n",
       "      <td>-480.0</td>\n",
       "      <td>1.538428e+12</td>\n",
       "    </tr>\n",
       "    <tr>\n",
       "      <th>75%</th>\n",
       "      <td>2.900000</td>\n",
       "      <td>0.233000</td>\n",
       "      <td>1.000000</td>\n",
       "      <td>199.720000</td>\n",
       "      <td>0.900000</td>\n",
       "      <td>2.84</td>\n",
       "      <td>16.000000</td>\n",
       "      <td>0.187100</td>\n",
       "      <td>12.000000</td>\n",
       "      <td>1.538821e+12</td>\n",
       "      <td>0.0</td>\n",
       "      <td>-480.0</td>\n",
       "      <td>1.538878e+12</td>\n",
       "    </tr>\n",
       "    <tr>\n",
       "      <th>max</th>\n",
       "      <td>3.300000</td>\n",
       "      <td>1.414000</td>\n",
       "      <td>19.000000</td>\n",
       "      <td>355.910000</td>\n",
       "      <td>2.900000</td>\n",
       "      <td>2.84</td>\n",
       "      <td>61.000000</td>\n",
       "      <td>0.863400</td>\n",
       "      <td>129.000000</td>\n",
       "      <td>1.539461e+12</td>\n",
       "      <td>0.0</td>\n",
       "      <td>-480.0</td>\n",
       "      <td>1.539483e+12</td>\n",
       "    </tr>\n",
       "  </tbody>\n",
       "</table>\n",
       "</div>"
      ],
      "text/plain": [
       "             cdi        dmin       felt         gap         mag   mmi  \\\n",
       "count  15.000000  681.000000  15.000000  681.000000  681.000000  1.00   \n",
       "mean    2.440000    0.166199   2.400000  153.668120    0.500073  2.84   \n",
       "std     0.501142    0.166228   4.626013   68.735302    0.696710   NaN   \n",
       "min     2.000000    0.001000   1.000000   29.140000   -0.500000  2.84   \n",
       "25%     2.000000    0.053000   1.000000   97.380000   -0.100000  2.84   \n",
       "50%     2.200000    0.112000   1.000000  149.140000    0.400000  2.84   \n",
       "75%     2.900000    0.233000   1.000000  199.720000    0.900000  2.84   \n",
       "max     3.300000    1.414000  19.000000  355.910000    2.900000  2.84   \n",
       "\n",
       "              nst         rms         sig          time  tsunami     tz  \\\n",
       "count  681.000000  681.000000  681.000000  6.810000e+02    681.0  681.0   \n",
       "mean    12.618209    0.151986   10.970631  1.538314e+12      0.0 -480.0   \n",
       "std      9.866963    0.084662   19.607150  5.965637e+08      0.0    0.0   \n",
       "min      3.000000    0.000500    0.000000  1.537247e+12      0.0 -480.0   \n",
       "25%      6.000000    0.106900    0.000000  1.537854e+12      0.0 -480.0   \n",
       "50%     10.000000    0.146300    2.000000  1.538280e+12      0.0 -480.0   \n",
       "75%     16.000000    0.187100   12.000000  1.538821e+12      0.0 -480.0   \n",
       "max     61.000000    0.863400  129.000000  1.539461e+12      0.0 -480.0   \n",
       "\n",
       "            updated  \n",
       "count  6.810000e+02  \n",
       "mean   1.538402e+12  \n",
       "std    6.010951e+08  \n",
       "min    1.537307e+12  \n",
       "25%    1.537928e+12  \n",
       "50%    1.538428e+12  \n",
       "75%    1.538878e+12  \n",
       "max    1.539483e+12  "
      ]
     },
     "execution_count": 44,
     "metadata": {},
     "output_type": "execute_result"
    }
   ],
   "source": [
    "# Calcular las estadísticas resumidas de los terremotos en Nevada.\n",
    "# Creo un dataframe con los datos de los terremotos de Nevada\n",
    "df_nevada = df.loc[df['parsed_place'] == 'Nevada']\n",
    "df_nevada.describe()"
   ]
  },
  {
   "cell_type": "markdown",
   "metadata": {},
   "source": [
    "### Ejercicio 4 ###"
   ]
  },
  {
   "cell_type": "code",
   "execution_count": 60,
   "metadata": {},
   "outputs": [],
   "source": [
    "# Añadimos una columna llamada cinturon_fuego que busca en las localizaciones sin pertenecen al cinturon de fuego y coloca True, sino False\n",
    "df['cinturon_fuego'] = (df['parsed_place'].str.contains('Alaska')) |(df['parsed_place'].str.contains('Antarctic')) | (df['parsed_place'].str.contains('Bolivia')) | \\\n",
    "    (df['parsed_place'].str.contains('California')) | (df['parsed_place'].str.contains('Canada')) | (df['parsed_place'].str.contains('Costa Rica')) | \\\n",
    "        (df['parsed_place'].str.contains('Ecuador')) | (df['parsed_place'].str.contains('Fiyi')) | (df['place'].str.contains('Guatemala')) | \\\n",
    "            (df['parsed_place'].str.contains('Indonesia')) | (df['parsed_place'].str.contains('Japan')) | (df['parsed_place'].str.contains('Kermadec islands')) | \\\n",
    "            (df['parsed_place'] == ('Mexico')) | (df['parsed_place'].str.contains('New Zealand')) | (df['parsed_place'].str.contains('Peru')) | \\\n",
    "                (df['parsed_place'].str.contains('Philippines')) | (df['parsed_place'].str.contains('Rusia')) |(df['parsed_place'].str.contains('Taiwan')) | \\\n",
    "                    (df['parsed_place'].str.contains('Tonga')) | (df['parsed_place'].str.contains('Washington')) | (df['parsed_place'].str.contains('Chile'))"
   ]
  },
  {
   "cell_type": "markdown",
   "metadata": {},
   "source": [
    "### Ejercicio 5 ###"
   ]
  },
  {
   "cell_type": "code",
   "execution_count": 66,
   "metadata": {},
   "outputs": [
    {
     "name": "stdout",
     "output_type": "stream",
     "text": [
      "Los terremotos en el cinturon de fuego han sido: 7092 y los terremotos fuera han sido: 2240\n"
     ]
    }
   ],
   "source": [
    "# Cuento las filas que tienen True en la columna cinturon_fuego\n",
    "terremotos_cinturon_fuego = len(df.loc[df['cinturon_fuego'] == True])\n",
    "\n",
    "# Cuento las filas que tienen False en la columna cinturon_fuego\n",
    "terremotos_fuera_cinturon_fuego = len(df.loc[df['cinturon_fuego'] == False])\n",
    "\n",
    "print(f\"Los terremotos en el cinturon de fuego han sido: {terremotos_cinturon_fuego} y los terremotos fuera han sido: {terremotos_fuera_cinturon_fuego}\")\n"
   ]
  },
  {
   "cell_type": "markdown",
   "metadata": {},
   "source": [
    "### Ejercicio 6 ###"
   ]
  },
  {
   "cell_type": "code",
   "execution_count": 65,
   "metadata": {},
   "outputs": [
    {
     "name": "stdout",
     "output_type": "stream",
     "text": [
      "Los tsunamis en el cinturon de fuego han sido: 42\n"
     ]
    }
   ],
   "source": [
    "# Medimos la longitud de las filas que tienen True en la columna cinturon fuego y además en la columna tsunami tienen un 1\n",
    "tsunamis_cinturon_fuego = len(df.loc[(df['cinturon_fuego'] == True) & (df['tsunami'] == 1)])\n",
    "print(f\"Los tsunamis en el cinturon de fuego han sido: {tsunamis_cinturon_fuego}\")"
   ]
  }
 ],
 "metadata": {
  "kernelspec": {
   "display_name": ".venv",
   "language": "python",
   "name": "python3"
  },
  "language_info": {
   "codemirror_mode": {
    "name": "ipython",
    "version": 3
   },
   "file_extension": ".py",
   "mimetype": "text/x-python",
   "name": "python",
   "nbconvert_exporter": "python",
   "pygments_lexer": "ipython3",
   "version": "3.11.6"
  }
 },
 "nbformat": 4,
 "nbformat_minor": 2
}
